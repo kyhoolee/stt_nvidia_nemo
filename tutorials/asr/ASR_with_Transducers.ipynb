{
  "cells": [
    {
      "cell_type": "code",
      "execution_count": 1,
      "metadata": {
        "id": "SUOXg71A3w78"
      },
      "outputs": [
        {
          "name": "stdout",
          "output_type": "stream",
          "text": [
            "Requirement already satisfied: wget in /home/ubuntu/miniconda3/envs/nemo/lib/python3.10/site-packages (3.2)\n"
          ]
        },
        {
          "name": "stdout",
          "output_type": "stream",
          "text": [
            "Requirement already satisfied: text-unidecode in /home/ubuntu/miniconda3/envs/nemo/lib/python3.10/site-packages (1.3)\n"
          ]
        }
      ],
      "source": [
        "\"\"\"\n",
        "You can run either this notebook locally (if you have all the dependencies and a GPU) or on Google Colab.\n",
        "\n",
        "Instructions for setting up Colab are as follows:\n",
        "1. Open a new Python 3 notebook.\n",
        "2. Import this notebook from GitHub (File -> Upload Notebook -> \"GITHUB\" tab -> copy/paste GitHub URL)\n",
        "3. Connect to an instance with a GPU (Runtime -> Change runtime type -> select \"GPU\" for hardware accelerator)\n",
        "4. Run this cell to set up dependencies.\n",
        "5. Restart the runtime (Runtime -> Restart Runtime) for any upgraded packages to take effect\n",
        "\n",
        "\n",
        "NOTE: User is responsible for checking the content of datasets and the applicable licenses and determining if suitable for the intended use.\n",
        "\"\"\"\n",
        "# If you're using Google Colab and not running locally, run this cell.\n",
        "import os\n",
        "\n",
        "# Install dependencies\n",
        "!pip install wget\n",
        "# !apt install sox libsndfile1 ffmpeg\n",
        "!pip install text-unidecode\n",
        "!pip install matplotlib>=3.3.2\n",
        "\n",
        "## Install NeMo\n",
        "# BRANCH = 'r2.3.0'\n",
        "# !python -m pip install git+https://github.com/NVIDIA/NeMo.git@$BRANCH#egg=nemo_toolkit[all]\n",
        "\n",
        "## Grab the config we'll use in this example\n",
        "# !mkdir configs\n",
        "# !wget -P configs/ https://raw.githubusercontent.com/NVIDIA/NeMo/$BRANCH/examples/asr/conf/contextnet_rnnt/contextnet_rnnt.yaml\n"
      ]
    },
    {
      "cell_type": "code",
      "execution_count": 2,
      "metadata": {
        "id": "uj-UnhKk47oW"
      },
      "outputs": [],
      "source": [
        "# In a conda environment, you would use the following command\n",
        "# Update Numba to > 0.53\n",
        "# conda install -c conda-forge numba\n",
        "# or\n",
        "# conda update -c conda-forge numba\n",
        "\n",
        "# For pip based environments,\n",
        "# Update Numba to > 0.53\n",
        "# !pip install --upgrade numba"
      ]
    },
    {
      "cell_type": "markdown",
      "metadata": {
        "id": "RGNuJWr66C38"
      },
      "source": [
        "# Automatic Speech Recognition with Transducer Models\n",
        "\n",
        "This notebook is a basic tutorial for creating a Transducer ASR model and then training it on a small dataset (AN4). It includes discussion relevant to reducing memory issues when training such models and demonstrates how to change the decoding strategy after training. Finally, it also provides a brief glimpse of extracting alignment information from a trained Transducer model.\n",
        "\n",
        "As we will see in this tutorial, apart from the differences in the config and the class used to instantiate the model, nearly all steps are precisely similar to any CTC-based model training. Many concepts such as data loader setup, optimization setup, pre-trained checkpoint weight loading will be nearly identical between CTC and Transducer models.\n",
        "\n",
        "In essence, NeMo makes it seamless to take a config for a CTC ASR model, add in a few components related to Transducers (often without any modifications) and use a different class to instantiate a Transducer model!\n",
        "\n",
        "--------\n",
        "\n",
        "**Note**: It is assumed that the previous tutorial - \"Intro-to-Transducers\" has been reviewed, and there is some familiarity with the config components of transducer models.\n"
      ]
    },
    {
      "cell_type": "markdown",
      "metadata": {
        "id": "eAqCcJ-T6C6k"
      },
      "source": [
        "# Preparing the dataset\n",
        "\n",
        "In this tutorial, we will be utilizing the `AN4`dataset - also known as the Alphanumeric dataset, which was collected and published by Carnegie Mellon University. It consists of recordings of people spelling out addresses, names, telephone numbers, etc., one letter or number at a time and their corresponding transcripts. We choose to use AN4 for this tutorial because it is relatively small, with 948 training and 130 test utterances, and so it trains quickly.\n",
        "\n",
        "Let's first download the preparation script from NeMo's scripts directory -"
      ]
    },
    {
      "cell_type": "code",
      "execution_count": 3,
      "metadata": {
        "id": "pu4n4GkjAo9i"
      },
      "outputs": [],
      "source": [
        "import os\n",
        "\n",
        "if not os.path.exists(\"scripts/\"):\n",
        "  os.makedirs(\"scripts\")\n",
        "\n",
        "# if not os.path.exists(\"scripts/process_an4_data.py\"):\n",
        "#   !wget -P scripts/ https://raw.githubusercontent.com/NVIDIA/NeMo/$BRANCH/scripts/dataset_processing/process_an4_data.py"
      ]
    },
    {
      "cell_type": "markdown",
      "metadata": {
        "id": "_QGyusFJBUqH"
      },
      "source": [
        "------\n",
        "\n",
        "Download and prepare the two subsets of `AN 4`"
      ]
    },
    {
      "cell_type": "code",
      "execution_count": 4,
      "metadata": {
        "id": "yV1rJcH6ApDo"
      },
      "outputs": [
        {
          "name": "stdout",
          "output_type": "stream",
          "text": [
            "******\n",
            "Tarfile already exists.\n",
            "Finished conversion.\n",
            "******\n"
          ]
        }
      ],
      "source": [
        "import wget\n",
        "import tarfile\n",
        "import subprocess\n",
        "import glob\n",
        "\n",
        "data_dir = \"datasets\"\n",
        "\n",
        "if not os.path.exists(data_dir):\n",
        "  os.makedirs(data_dir)\n",
        "\n",
        "# Download the dataset. This will take a few moments...\n",
        "print(\"******\")\n",
        "if not os.path.exists(data_dir + '/an4_sphere.tar.gz'):\n",
        "    an4_url = 'https://dldata-public.s3.us-east-2.amazonaws.com/an4_sphere.tar.gz'\n",
        "    an4_path = wget.download(an4_url, data_dir)\n",
        "    print(f\"Dataset downloaded at: {an4_path}\")\n",
        "else:\n",
        "    print(\"Tarfile already exists.\")\n",
        "    an4_path = data_dir + '/an4_sphere.tar.gz'\n",
        "\n",
        "\n",
        "if not os.path.exists(data_dir + '/an4/'):\n",
        "    # Untar and convert .sph to .wav (using sox)\n",
        "    tar = tarfile.open(an4_path)\n",
        "    tar.extractall(path=data_dir)\n",
        "\n",
        "    print(\"Converting .sph to .wav...\")\n",
        "    sph_list = glob.glob(data_dir + '/an4/**/*.sph', recursive=True)\n",
        "    for sph_path in sph_list:\n",
        "        wav_path = sph_path[:-4] + '.wav'\n",
        "        cmd = [\"sox\", sph_path, wav_path]\n",
        "        subprocess.run(cmd)\n",
        "\n",
        "print(\"Finished conversion.\\n******\")"
      ]
    },
    {
      "cell_type": "code",
      "execution_count": 5,
      "metadata": {
        "id": "q2OVIxAXfTu_"
      },
      "outputs": [
        {
          "name": "stdout",
          "output_type": "stream",
          "text": [
            "******\n",
            "***Done***\n"
          ]
        }
      ],
      "source": [
        "# --- Building Manifest Files --- #\n",
        "import json\n",
        "import librosa\n",
        "\n",
        "# Function to build a manifest\n",
        "def build_manifest(transcripts_path, manifest_path, wav_path):\n",
        "    with open(transcripts_path, 'r') as fin:\n",
        "        with open(manifest_path, 'w') as fout:\n",
        "            for line in fin:\n",
        "                # Lines look like this:\n",
        "                # <s> transcript </s> (fileID)\n",
        "                transcript = line[: line.find('(')-1].lower()\n",
        "                transcript = transcript.replace('<s>', '').replace('</s>', '')\n",
        "                transcript = transcript.strip()\n",
        "\n",
        "                file_id = line[line.find('(')+1 : -2]  # e.g. \"cen4-fash-b\"\n",
        "                audio_path = os.path.join(\n",
        "                    data_dir, wav_path,\n",
        "                    file_id[file_id.find('-')+1 : file_id.rfind('-')],\n",
        "                    file_id + '.wav')\n",
        "\n",
        "                duration = librosa.core.get_duration(path=audio_path)\n",
        "\n",
        "                # Write the metadata to the manifest\n",
        "                metadata = {\n",
        "                    \"audio_filepath\": audio_path,\n",
        "                    \"duration\": duration,\n",
        "                    \"text\": transcript\n",
        "                }\n",
        "                json.dump(metadata, fout)\n",
        "                fout.write('\\n')\n",
        "\n",
        "# Building Manifests\n",
        "print(\"******\")\n",
        "train_transcripts = os.path.join(data_dir, 'an4/etc/an4_train.transcription')\n",
        "train_manifest = os.path.join(data_dir, 'an4/train_manifest.json')\n",
        "if not os.path.isfile(train_manifest):\n",
        "    build_manifest(train_transcripts, train_manifest, 'an4/wav/an4_clstk')\n",
        "    print(\"Training manifest created.\")\n",
        "\n",
        "test_transcripts = os.path.join(data_dir, 'an4/etc/an4_test.transcription')\n",
        "test_manifest = os.path.join(data_dir, 'an4/test_manifest.json')\n",
        "if not os.path.isfile(test_manifest):\n",
        "    build_manifest(test_transcripts, test_manifest, 'an4/wav/an4test_clstk')\n",
        "    print(\"Test manifest created.\")\n",
        "print(\"***Done***\")\n",
        "# Manifest filepaths\n",
        "TRAIN_MANIFEST = train_manifest\n",
        "TEST_MANIFEST = test_manifest"
      ]
    },
    {
      "cell_type": "markdown",
      "metadata": {
        "id": "2sSycX_VJsCI"
      },
      "source": [
        "## Preparing the tokenizer\n",
        "\n",
        "Now that we have a dataset ready, we need to decide whether to use a character-based model or a sub-word-based model. For completeness' sake, we will use a tokenizer based model so that we can leverage a modern encoder architecture like ContextNet or Conformer-T."
      ]
    },
    {
      "cell_type": "code",
      "execution_count": 6,
      "metadata": {
        "id": "i2hD4LkoJvrx"
      },
      "outputs": [],
      "source": [
        "# if not os.path.exists(\"scripts/process_asr_text_tokenizer.py\"):\n",
        "#   !wget -P scripts/ https://raw.githubusercontent.com/NVIDIA/NeMo/$BRANCH/scripts/tokenizers/process_asr_text_tokenizer.py"
      ]
    },
    {
      "cell_type": "markdown",
      "metadata": {
        "id": "dQdeiafdKE4A"
      },
      "source": [
        "-----\n",
        "\n",
        "Since the dataset is tiny, we can use a small SentencePiece based tokenizer. We always delete the tokenizer directory so any changes to the manifest files are always replicated in the tokenizer."
      ]
    },
    {
      "cell_type": "code",
      "execution_count": 7,
      "metadata": {
        "id": "i6Jzpt6UJvuI"
      },
      "outputs": [
        {
          "name": "stdout",
          "output_type": "stream",
          "text": [
            "INFO:root:Finished extracting manifest : datasets/an4/train_manifest.json\n",
            "INFO:root:Finished extracting all manifests ! Number of sentences : 948\n",
            "[NeMo I 2025-07-18 15:02:35 sentencepiece_tokenizer:425] Processing tokenizers/text_corpus/document.txt and store at tokenizers/tokenizer_spe_bpe_v64\n",
            "sentencepiece_trainer.cc(178) LOG(INFO) Running command: --input=tokenizers/text_corpus/document.txt --model_prefix=tokenizers/tokenizer_spe_bpe_v64/tokenizer --vocab_size=64 --shuffle_input_sentence=true --hard_vocab_limit=false --model_type=bpe --character_coverage=1.0 --bos_id=-1 --eos_id=-1 --remove_extra_whitespaces=false\n",
            "sentencepiece_trainer.cc(78) LOG(INFO) Starts training with : \n",
            "trainer_spec {\n",
            "  input: tokenizers/text_corpus/document.txt\n",
            "  input_format: \n",
            "  model_prefix: tokenizers/tokenizer_spe_bpe_v64/tokenizer\n",
            "  model_type: BPE\n",
            "  vocab_size: 64\n",
            "  self_test_sample_size: 0\n",
            "  character_coverage: 1\n",
            "  input_sentence_size: 0\n",
            "  shuffle_input_sentence: 1\n",
            "  seed_sentencepiece_size: 1000000\n",
            "  shrinking_factor: 0.75\n",
            "  max_sentence_length: 4192\n",
            "  num_threads: 16\n",
            "  num_sub_iterations: 2\n",
            "  max_sentencepiece_length: 16\n",
            "  split_by_unicode_script: 1\n",
            "  split_by_number: 1\n",
            "  split_by_whitespace: 1\n",
            "  split_digits: 0\n",
            "  pretokenization_delimiter: \n",
            "  treat_whitespace_as_suffix: 0\n",
            "  allow_whitespace_only_pieces: 0\n",
            "  required_chars: \n",
            "  byte_fallback: 0\n",
            "  vocabulary_output_piece_score: 1\n",
            "  train_extremely_large_corpus: 0\n",
            "  seed_sentencepieces_file: \n",
            "  hard_vocab_limit: 0\n",
            "  use_all_vocab: 0\n",
            "  unk_id: 0\n",
            "  bos_id: -1\n",
            "  eos_id: -1\n",
            "  pad_id: -1\n",
            "  unk_piece: <unk>\n",
            "  bos_piece: <s>\n",
            "  eos_piece: </s>\n",
            "  pad_piece: <pad>\n",
            "  unk_surface:  ⁇ \n",
            "  enable_differential_privacy: 0\n",
            "  differential_privacy_noise_level: 0\n",
            "  differential_privacy_clipping_threshold: 0\n",
            "}\n",
            "normalizer_spec {\n",
            "  name: nmt_nfkc\n",
            "  add_dummy_prefix: 1\n",
            "  remove_extra_whitespaces: 0\n",
            "  escape_whitespaces: 1\n",
            "  normalization_rule_tsv: \n",
            "}\n",
            "denormalizer_spec {}\n",
            "trainer_interface.cc(353) LOG(INFO) SentenceIterator is not specified. Using MultiFileSentenceIterator.\n",
            "trainer_interface.cc(185) LOG(INFO) Loading corpus: tokenizers/text_corpus/document.txt\n",
            "trainer_interface.cc(409) LOG(INFO) Loaded all 948 sentences\n",
            "trainer_interface.cc(425) LOG(INFO) Adding meta_piece: <unk>\n",
            "trainer_interface.cc(430) LOG(INFO) Normalizing sentences...\n",
            "trainer_interface.cc(539) LOG(INFO) all chars count=18802\n",
            "trainer_interface.cc(560) LOG(INFO) Alphabet size=27\n",
            "trainer_interface.cc(561) LOG(INFO) Final character coverage=1\n",
            "trainer_interface.cc(592) LOG(INFO) Done! preprocessed 948 sentences.\n",
            "trainer_interface.cc(598) LOG(INFO) Tokenizing input sentences with whitespace: 948\n",
            "trainer_interface.cc(609) LOG(INFO) Done! 99\n",
            "bpe_model_trainer.cc(159) LOG(INFO) Updating active symbols. max_freq=718 min_freq=1\n",
            "bpe_model_trainer.cc(268) LOG(INFO) Added: freq=190 size=20 all=208 active=181 piece=ee\n",
            "trainer_interface.cc(687) LOG(INFO) Saving model: tokenizers/tokenizer_spe_bpe_v64/tokenizer.model\n",
            "trainer_interface.cc(699) LOG(INFO) Saving vocabs: tokenizers/tokenizer_spe_bpe_v64/tokenizer.vocab\n",
            "Serialized tokenizer at location : tokenizers/tokenizer_spe_bpe_v64\n",
            "INFO:root:Done!\n"
          ]
        }
      ],
      "source": [
        "VOCAB_SIZE = 64  # can be any value above 29\n",
        "TOKENIZER_TYPE = \"spe\"  # can be wpe or spe\n",
        "SPE_TYPE = \"bpe\"  # can be bpe or unigram\n",
        "\n",
        "# ------------------------------------------------------------------- #\n",
        "!rm -r tokenizers/\n",
        "\n",
        "if not os.path.exists(\"tokenizers\"):\n",
        "  os.makedirs(\"tokenizers\")\n",
        "\n",
        "!python scripts/process_asr_text_tokenizer.py \\\n",
        "   --manifest=$TRAIN_MANIFEST \\\n",
        "   --data_root=\"tokenizers\" \\\n",
        "   --tokenizer=$TOKENIZER_TYPE \\\n",
        "   --spe_type=$SPE_TYPE \\\n",
        "   --no_lower_case \\\n",
        "   --log \\\n",
        "   --vocab_size=$VOCAB_SIZE"
      ]
    },
    {
      "cell_type": "code",
      "execution_count": 8,
      "metadata": {
        "id": "JHDZswN6LIBJ"
      },
      "outputs": [],
      "source": [
        "# Tokenizer path\n",
        "if TOKENIZER_TYPE == 'spe':\n",
        "  TOKENIZER = os.path.join(\"tokenizers\", f\"tokenizer_spe_{SPE_TYPE}_v{VOCAB_SIZE}\")\n",
        "  TOKENIZER_TYPE_CFG = \"bpe\"\n",
        "else:\n",
        "  TOKENIZER = os.path.join(\"tokenizers\", f\"tokenizer_wpe_v{VOCAB_SIZE}\")\n",
        "  TOKENIZER_TYPE_CFG = \"wpe\""
      ]
    },
    {
      "cell_type": "markdown",
      "metadata": {
        "id": "j8tx2m2w6C87"
      },
      "source": [
        "# Preparing a Transducer Model\n",
        "\n",
        "Now that we have the dataset and tokenizer prepared, let us begin by setting up the config of the Transducer model! In this tutorial, we will build a slightly modified ContextNet architecture (which is obtained from the paper [ContextNet: Improving Convolutional Neural Networks for Automatic Speech Recognition with Global Context](https://arxiv.org/abs/2005.03191)).\n",
        "\n",
        "We can note that many of the steps here are identical to the setup of a CTC model!\n"
      ]
    },
    {
      "cell_type": "markdown",
      "metadata": {
        "id": "pQETBCSML0Us"
      },
      "source": [
        "## Prepare the config\n",
        "\n",
        "For a dataset such as AN4, we do not need such a deep model. In fact, the depth of this model will cause much slower convergence on a small dataset, which would require far too long to train on Colab.\n",
        "\n",
        "In order to speed up training for this demo, we will take only the first five blocks of ContextNet, and discard the rest - and we can do this directly from the config.\n",
        "\n",
        "**Note**: On any realistic dataset (say Librispeech) this step would hurt the model's accuracy significantly. It is being done only to reduce the time spent waiting for training to finish on Colab."
      ]
    },
    {
      "cell_type": "code",
      "execution_count": 9,
      "metadata": {
        "id": "6a_vedo0Lyo8"
      },
      "outputs": [],
      "source": [
        "from omegaconf import OmegaConf, open_dict\n",
        "\n",
        "# config = OmegaConf.load(\"configs/contextnet_rnnt.yaml\")\n",
        "config = OmegaConf.load(\"configs/fast-conformer_transducer_bpe.yaml\")"
      ]
    },
    {
      "cell_type": "markdown",
      "metadata": {
        "id": "N-t7fRl6GS3A"
      },
      "source": [
        "-----\n",
        "\n",
        "Here, we will slice off the first five blocks from the Jasper block (used to build ContextNet). Setting the config with this subset will create a stride 2x model with just five blocks.\n",
        "\n",
        "We will also explicitly state that the last block dimension must be obtained from `model.model_defaults.enc_hidden` inside the config."
      ]
    },
    {
      "cell_type": "code",
      "execution_count": 10,
      "metadata": {
        "id": "B9nY5JQaIhKz"
      },
      "outputs": [],
      "source": [
        "# config.model.encoder.jasper = config.model.encoder.jasper[:5]\n",
        "# config.model.encoder.jasper[-1].filters = '${model.model_defaults.enc_hidden}'\n",
        "config.model.encoder.n_layers = 3\n",
        "config.model.encoder.d_model = 64\n",
        "config.model.train_ds.max_duration = 5\n",
        "# config.model.encoder.conv_kernel_size = 18"
      ]
    },
    {
      "cell_type": "markdown",
      "metadata": {
        "id": "d0tyOaqNLq-4"
      },
      "source": [
        "-------\n",
        "\n",
        "Next, set up the data loaders of the config for the ContextNet model."
      ]
    },
    {
      "cell_type": "code",
      "execution_count": 11,
      "metadata": {
        "id": "mJbqMEkjMTfM"
      },
      "outputs": [
        {
          "name": "stdout",
          "output_type": "stream",
          "text": [
            "manifest_filepath: ???\n",
            "sample_rate: ${model.sample_rate}\n",
            "batch_size: 16\n",
            "shuffle: true\n",
            "num_workers: 8\n",
            "pin_memory: true\n",
            "max_duration: 5\n",
            "min_duration: 0.1\n",
            "is_tarred: false\n",
            "tarred_audio_filepaths: null\n",
            "shuffle_n: 2048\n",
            "bucketing_strategy: fully_randomized\n",
            "bucketing_batch_size: null\n",
            "\n"
          ]
        }
      ],
      "source": [
        "# print out the train and validation configs to know what needs to be changed\n",
        "print(OmegaConf.to_yaml(config.model.train_ds))"
      ]
    },
    {
      "cell_type": "markdown",
      "metadata": {
        "id": "fyYY6hU5Meyk"
      },
      "source": [
        "-------\n",
        "\n",
        "We can note that the config here is nearly identical to the CTC ASR model configs! So let us take the same steps here to update the configs."
      ]
    },
    {
      "cell_type": "code",
      "execution_count": 12,
      "metadata": {
        "id": "5QNYNItcMeOC"
      },
      "outputs": [],
      "source": [
        "config.model.train_ds.manifest_filepath = TRAIN_MANIFEST\n",
        "config.model.validation_ds.manifest_filepath = TEST_MANIFEST\n",
        "config.model.test_ds.manifest_filepath = TEST_MANIFEST"
      ]
    },
    {
      "cell_type": "markdown",
      "metadata": {
        "id": "MfW6KQ0gM6QQ"
      },
      "source": [
        "------\n",
        "\n",
        "Next, we need to setup the tokenizer section of the config"
      ]
    },
    {
      "cell_type": "code",
      "execution_count": 13,
      "metadata": {
        "id": "CNlRNlVCNAjr"
      },
      "outputs": [
        {
          "name": "stdout",
          "output_type": "stream",
          "text": [
            "dir: ???\n",
            "type: bpe\n",
            "\n"
          ]
        }
      ],
      "source": [
        "print(OmegaConf.to_yaml(config.model.tokenizer))"
      ]
    },
    {
      "cell_type": "code",
      "execution_count": 14,
      "metadata": {
        "id": "MzmCNJZ7NAng"
      },
      "outputs": [],
      "source": [
        "config.model.tokenizer.dir = TOKENIZER\n",
        "config.model.tokenizer.type = TOKENIZER_TYPE_CFG"
      ]
    },
    {
      "cell_type": "markdown",
      "metadata": {
        "id": "j1gVDybDq5vN"
      },
      "source": [
        "------\n",
        "Now, we can update the optimization and augmentation for this dataset in order to converge to some reasonable score within a short training run."
      ]
    },
    {
      "cell_type": "code",
      "execution_count": 15,
      "metadata": {
        "id": "cUkqv_bQraQe"
      },
      "outputs": [
        {
          "name": "stdout",
          "output_type": "stream",
          "text": [
            "name: novograd\n",
            "lr: 0.05\n",
            "betas:\n",
            "- 0.9\n",
            "- 0.0\n",
            "weight_decay: 0.001\n",
            "sched:\n",
            "  name: CosineAnnealing\n",
            "  warmup_steps: 5000\n",
            "  warmup_ratio: null\n",
            "  min_lr: 1.0e-06\n",
            "  last_epoch: -1\n",
            "\n"
          ]
        }
      ],
      "source": [
        "print(OmegaConf.to_yaml(config.model.optim))"
      ]
    },
    {
      "cell_type": "code",
      "execution_count": 16,
      "metadata": {
        "id": "mEyK1fqEiyxo"
      },
      "outputs": [],
      "source": [
        "# Finally, let's remove logging of samples and the warmup since the dataset is small (similar to CTC models)\n",
        "config.model.log_prediction = False\n",
        "config.model.optim.sched.warmup_steps = None"
      ]
    },
    {
      "cell_type": "markdown",
      "metadata": {
        "id": "lwrvBFCcZO1q"
      },
      "source": [
        "------\n",
        "\n",
        "Next, we remove the spec augment that is provided by default for ContextNet. While additional augmentation would surely help training, it would require longer training to see significant benefits."
      ]
    },
    {
      "cell_type": "code",
      "execution_count": 17,
      "metadata": {
        "id": "i4udFKMwDbRm"
      },
      "outputs": [
        {
          "name": "stdout",
          "output_type": "stream",
          "text": [
            "_target_: nemo.collections.asr.modules.SpectrogramAugmentation\n",
            "freq_masks: 2\n",
            "time_masks: 10\n",
            "freq_width: 27\n",
            "time_width: 0.05\n",
            "\n"
          ]
        }
      ],
      "source": [
        "print(OmegaConf.to_yaml(config.model.spec_augment))"
      ]
    },
    {
      "cell_type": "code",
      "execution_count": 18,
      "metadata": {
        "id": "OLUbRvoDDedd"
      },
      "outputs": [],
      "source": [
        "config.model.spec_augment.freq_masks = 0\n",
        "config.model.spec_augment.time_masks = 0"
      ]
    },
    {
      "cell_type": "markdown",
      "metadata": {
        "id": "0plKYG1zNKQK"
      },
      "source": [
        "------\n",
        "\n",
        "... We are now almost done! Most of the updates to a Transducer config are nearly the same as any CTC model."
      ]
    },
    {
      "cell_type": "markdown",
      "metadata": {
        "id": "gn8WzknQ6C-t"
      },
      "source": [
        "## Fused Batch during training and evaluation\n",
        "\n",
        "We discussed in the previous tutorial (Intro-to-Transducers) the significant memory cost of the Transducer Joint calculation during training. We also discussed that NeMo provides a simple yet effective method to nearly sidestep this limitation. We can now dive deeper into understanding what precisely NeMo's Transducer framework will do to alleviate this memory consumption issue.\n",
        "\n",
        "The following sub-cells are **voluntary** and valuable for understanding the cause, effect, and resolution of memory issues in Transducer models. The content can be skipped if one is familiar with the topic, and it is only required to use the `fused batch step`."
      ]
    },
    {
      "cell_type": "markdown",
      "metadata": {
        "id": "V5sMoFHmVvhg"
      },
      "source": [
        "## Transducer Memory reduction with Fused Batch step\n",
        "\n",
        "The following few cells explain why memory is an issue when training Transducer models and how NeMo tackles the issue with its Fused Batch step.\n",
        "\n",
        "The material can be read for a thorough understanding, otherwise, it can be skipped."
      ]
    },
    {
      "cell_type": "markdown",
      "metadata": {
        "id": "kdPilgiIOncw"
      },
      "source": [
        "### Diving deeper into the memory costs of Transducer Joint\n",
        "-------\n",
        "\n",
        "One of the significant limitations of Transducers is the exorbitant memory cost of computing the Joint module. The Joint module is comprised of two steps.\n",
        "\n",
        "1) Projecting the Acoustic and Transcription feature dimensions to some standard hidden dimension (specified by `model.model_defaults.joint_hidden`)\n",
        "\n",
        "2) Projecting this intermediate hidden dimension to the final vocabulary space to obtain the transcription.\n",
        "\n",
        "Take the following example.\n",
        "\n",
        "**BS**=32 ; **T** (after **2x** stride) = 800, **U** (with character encoding) = 400-450 tokens, Vocabulary size  **V** = 28 (26 alphabet chars, space and apostrophe). Let the hidden dimension of the Joint model be 640 (Most Google Transducer papers use hidden dimension of 640).\n",
        "\n",
        "$ Memory \\, (Hidden, \\, gb) = 32 \\times 800 \\times 450 \\times 640 \\times 4 = 29.49 $ gigabytes (4 bytes per float).\n",
        "\n",
        "$ Memory \\, (Joint, \\, gb) = 32 \\times 800 \\times 450 \\times 28 \\times 4 = 1.290 $ gigabytes (4 bytes per float)\n",
        "\n",
        "-----\n",
        "\n",
        "**NOTE**: This is just for the forward pass! We need to double this memory to store gradients! This much memory is also just for the Joint model **alone**. Far more memory is required for the Prediction model as well as the large Acoustic model itself and its gradients!\n",
        "\n",
        "Even with mixed precision, that's $\\sim 30$ GB of GPU RAM for just 1 part of the network + its gradients.\n",
        "\n",
        "---------"
      ]
    },
    {
      "cell_type": "markdown",
      "metadata": {
        "id": "ZxVlEP9eQim8"
      },
      "source": [
        "### Simple methods to reduce memory consumption\n",
        "\n",
        "------\n",
        "\n",
        "The easiest way to reduce memory consumption is to perform more downsampling in the acoustic model and use sub-word tokenization of the text to reduce the length of the target sequence.\n",
        "\n",
        "**BS**=32 ; **T** (after **8x** stride) = 200, **U** (with sub-word encoding) = 100-180 tokens, Vocabulary size  **V** = 1024.\n",
        "\n",
        "$ Memory \\, (Hidden, \\, gb) = 32 \\times 200 \\times 150 \\times 640 \\times 4 = 2.45 $ gigabytes (4 bytes per float).\n",
        "\n",
        "$ Memory \\, (Joint, \\, gb) = 32 \\times 200 \\times 150 \\times 1024 \\times 4 = 3.93 $ gigabytes (4 bytes per float)\n",
        "\n",
        "-----\n",
        "\n",
        "Using Automatic Mixed Precision, we expend just around 6-7 GB of GPU RAM on the Joint + its gradient.\n",
        "\n",
        "The above memory cost is much more tractable - but we generally want larger and larger acoustic models. It is consistently the easiest way to improve transcription accuracy. So that means on a limited 32 GB GPU, we have to partition 7 GB just for the Joint and remaining memory allocated between Transcription + Acoustic Models.\n",
        "\n"
      ]
    },
    {
      "cell_type": "markdown",
      "metadata": {
        "id": "7uPZyTENRwv9"
      },
      "source": [
        "### Fused Transcription-Joint-Loss-WER (also called Batch Splitting)\n",
        "----------\n",
        "\n",
        "The fundamental problem is that the joint tensor grows in size when `[T x U]` grows in size. This growth in memory cost is due to many reasons - either by model construction (downsampling) or the choice of dataset preprocessing (character tokenization vs. sub-word tokenization).\n",
        "\n",
        "Another dimension that NeMo can control is **batch**. Due to how we batch our samples, small and large samples all get clumped together into a single batch. So even though the individual samples are not all as long as the maximum length of T and U in that batch, when a batch of such samples is constructed, it will consume a significant amount of memory for the sake of compute efficiency.\n",
        "\n",
        "So as is always the case - **trade-off compute speed for memory savings**.\n",
        "\n",
        "------\n",
        "\n",
        "The fused operation goes as follows :\n",
        "\n",
        "1) Forward the entire acoustic model in a single pass. (Use global batch size here for acoustic model - found in `model.*_ds.batch_size`)\n",
        "\n",
        "2) Split the Acoustic Model's logits by `fused_batch_size` and loop over these sub-batches.\n",
        "\n",
        "3) Construct a sub-batch of same `fused_batch_size` for the Prediction model. Now the target sequence length is $U_{sub-batch} < U$.\n",
        "\n",
        "4) Feed this $U_{sub-batch}$ into the Joint model, along with a sub-batch from the Acoustic model (with $T_{sub-batch} < T$). Remember, we only have to slice off a part of the acoustic model here since we have the full batch of samples $(B, T, D)$ from the acoustic model.\n",
        "\n",
        "5) Performing steps (3) and (4) yields $T_{sub-batch}$ and $U_{sub-batch}$. Perform sub-batch joint step - costing an intermediate $(B, T_{sub-batch}, U_{sub-batch}, V)$ in memory.\n",
        "\n",
        "6) Compute loss on sub-batch and preserve in a list to be later concatenated.\n",
        "\n",
        "7) Compute sub-batch metrics (such as Character / Word Error Rate) using the above Joint tensor and sub-batch of ground truth labels. Preserve the scores to be averaged across the entire batch later.\n",
        "\n",
        "8) Delete the sub-batch joint matrix  $(B, T_{sub-batch}, U_{sub-batch}, V)$. Only gradients from .backward() are preserved now in the computation graph.\n",
        "\n",
        "9) Repeat steps (3) - (8) until all sub-batches are consumed.\n",
        "\n",
        "10) Cleanup step. Compute full batch WER and log. Concatenate loss list and pass to PTL to compute the equivalent of the original (full batch) Joint step. Delete ancillary objects necessary for sub-batching.\n"
      ]
    },
    {
      "cell_type": "markdown",
      "metadata": {
        "id": "0T3vHdkeWo5S"
      },
      "source": [
        "## Setting up Fused Batch step in a Transducer Config\n",
        "\n",
        "After all that discussion above, let us look at how to enable that entire pipeline in NeMo.\n",
        "\n",
        "As we can note below, it takes precisely two changes in the config to enable the fused batch step:"
      ]
    },
    {
      "cell_type": "code",
      "execution_count": 19,
      "metadata": {
        "id": "Unv8-GvOWhad"
      },
      "outputs": [
        {
          "name": "stdout",
          "output_type": "stream",
          "text": [
            "_target_: nemo.collections.asr.modules.RNNTJoint\n",
            "log_softmax: null\n",
            "preserve_memory: false\n",
            "fuse_loss_wer: true\n",
            "fused_batch_size: 4\n",
            "jointnet:\n",
            "  joint_hidden: ${model.model_defaults.joint_hidden}\n",
            "  activation: relu\n",
            "  dropout: 0.2\n",
            "\n"
          ]
        }
      ],
      "source": [
        "print(OmegaConf.to_yaml(config.model.joint))"
      ]
    },
    {
      "cell_type": "code",
      "execution_count": 20,
      "metadata": {
        "id": "VsunP99saF5c"
      },
      "outputs": [],
      "source": [
        "# Two lines to enable the fused batch step\n",
        "config.model.joint.fuse_loss_wer = True\n",
        "config.model.joint.fused_batch_size = 16  # this can be any value (preferably less than model.*_ds.batch_size)"
      ]
    },
    {
      "cell_type": "code",
      "execution_count": 21,
      "metadata": {
        "id": "yT1vJH9OkS0u"
      },
      "outputs": [],
      "source": [
        "# We will also reduce the hidden dimension of the joint and the prediction networks to preserve some memory\n",
        "config.model.model_defaults.pred_hidden = 64\n",
        "config.model.model_defaults.joint_hidden = 64"
      ]
    },
    {
      "cell_type": "markdown",
      "metadata": {
        "id": "IPb1gS3OZprs"
      },
      "source": [
        "--------\n",
        "\n",
        "Finally, since the dataset is tiny, we do not need an enormous model (the default is roughly 40 M parameters!)."
      ]
    },
    {
      "cell_type": "code",
      "execution_count": 22,
      "metadata": {
        "id": "MywZQ9ADZpDW"
      },
      "outputs": [],
      "source": [
        "# Use just 128 filters across the model to speed up training and reduce parameter count\n",
        "config.model.model_defaults.filters = 128"
      ]
    },
    {
      "cell_type": "markdown",
      "metadata": {
        "id": "zUgThKbxatyg"
      },
      "source": [
        "## Initialize a Transducer ASR Model\n",
        "\n",
        "Finally, let us create a Transducer model, which is as easy as changing a line of import if you already have a script to create CTC models. We will use a small model since the dataset is just 5 hours of speech."
      ]
    },
    {
      "cell_type": "markdown",
      "metadata": {
        "id": "SH4ZfXHOdGhX"
      },
      "source": [
        "------\n",
        "\n",
        "Setup a Pytorch Lightning Trainer:"
      ]
    },
    {
      "cell_type": "code",
      "execution_count": 23,
      "metadata": {
        "id": "Fmf0iSY-a6LC"
      },
      "outputs": [
        {
          "name": "stderr",
          "output_type": "stream",
          "text": [
            "/home/ubuntu/miniconda3/envs/nemo/lib/python3.10/site-packages/tqdm/auto.py:21: TqdmWarning: IProgress not found. Please update jupyter and ipywidgets. See https://ipywidgets.readthedocs.io/en/stable/user_install.html\n",
            "  from .autonotebook import tqdm as notebook_tqdm\n",
            "GPU available: True (cuda), used: True\n",
            "TPU available: False, using: 0 TPU cores\n",
            "HPU available: False, using: 0 HPUs\n"
          ]
        }
      ],
      "source": [
        "import torch\n",
        "from lightning.pytorch import Trainer\n",
        "\n",
        "if torch.cuda.is_available():\n",
        "  accelerator = 'gpu'\n",
        "else:\n",
        "  accelerator = 'gpu'\n",
        "\n",
        "EPOCHS = 10\n",
        "\n",
        "# Initialize a Trainer for the Transducer model\n",
        "trainer = Trainer(devices=1, accelerator=accelerator, max_epochs=EPOCHS,\n",
        "                  enable_checkpointing=False, logger=False,\n",
        "                  log_every_n_steps=1, check_val_every_n_epoch=1)"
      ]
    },
    {
      "cell_type": "code",
      "execution_count": 24,
      "metadata": {
        "id": "jqVt4TEncEqv"
      },
      "outputs": [],
      "source": [
        "# Import the Transducer Model\n",
        "import nemo.collections.asr as nemo_asr"
      ]
    },
    {
      "cell_type": "code",
      "execution_count": 25,
      "metadata": {
        "id": "RheLsmA1cRz0"
      },
      "outputs": [
        {
          "name": "stdout",
          "output_type": "stream",
          "text": [
            "[NeMo I 2025-07-18 15:02:42 mixins:181] Tokenizer SentencePieceTokenizer initialized with 64 tokens\n",
            "[NeMo I 2025-07-18 15:02:42 collections:201] Dataset loaded with 910 files totalling 0.65 hours\n",
            "[NeMo I 2025-07-18 15:02:42 collections:202] 38 files were filtered totalling 0.06 hours\n"
          ]
        },
        {
          "name": "stdout",
          "output_type": "stream",
          "text": [
            "[NeMo I 2025-07-18 15:02:42 collections:201] Dataset loaded with 130 files totalling 0.10 hours\n",
            "[NeMo I 2025-07-18 15:02:42 collections:202] 0 files were filtered totalling 0.00 hours\n",
            "[NeMo I 2025-07-18 15:02:42 collections:201] Dataset loaded with 130 files totalling 0.10 hours\n",
            "[NeMo I 2025-07-18 15:02:42 collections:202] 0 files were filtered totalling 0.00 hours\n",
            "[NeMo I 2025-07-18 15:02:43 features:305] PADDING: 0\n",
            "[NeMo I 2025-07-18 15:02:43 rnnt_models:226] Using RNNT Loss : warprnnt_numba\n",
            "    Loss warprnnt_numba_kwargs: {'fastemit_lambda': 0.001, 'clamp': -1.0}\n",
            "[NeMo I 2025-07-18 15:02:43 rnnt_models:226] Using RNNT Loss : warprnnt_numba\n",
            "    Loss warprnnt_numba_kwargs: {'fastemit_lambda': 0.001, 'clamp': -1.0}\n",
            "[NeMo I 2025-07-18 15:02:43 rnnt_models:226] Using RNNT Loss : warprnnt_numba\n",
            "    Loss warprnnt_numba_kwargs: {'fastemit_lambda': 0.001, 'clamp': -1.0}\n"
          ]
        }
      ],
      "source": [
        "# Build the model\n",
        "model = nemo_asr.models.EncDecRNNTBPEModel(cfg=config.model, trainer=trainer)"
      ]
    },
    {
      "cell_type": "code",
      "execution_count": 26,
      "metadata": {
        "id": "9eqYnTwqnRtI"
      },
      "outputs": [
        {
          "data": {
            "text/plain": [
              "  | Name              | Type                              | Params | Mode \n",
              "--------------------------------------------------------------------------------\n",
              "0 | preprocessor      | AudioToMelSpectrogramPreprocessor | 0      | train\n",
              "1 | encoder           | ConformerEncoder                  | 605 K  | train\n",
              "2 | decoder           | RNNTDecoder                       | 37.4 K | train\n",
              "3 | joint             | RNNTJoint                         | 12.5 K | train\n",
              "4 | loss              | RNNTLoss                          | 0      | train\n",
              "5 | spec_augmentation | SpectrogramAugmentation           | 0      | train\n",
              "6 | wer               | WER                               | 0      | train\n",
              "--------------------------------------------------------------------------------\n",
              "655 K     Trainable params\n",
              "0         Non-trainable params\n",
              "655 K     Total params\n",
              "2.624     Total estimated model params size (MB)\n",
              "117       Modules in train mode\n",
              "0         Modules in eval mode"
            ]
          },
          "execution_count": 26,
          "metadata": {},
          "output_type": "execute_result"
        }
      ],
      "source": [
        "model.summarize()"
      ]
    },
    {
      "cell_type": "markdown",
      "metadata": {
        "id": "wZC2JM_8cqzR"
      },
      "source": [
        "------\n",
        "\n",
        "We now have a Transducer model ready to be trained!"
      ]
    },
    {
      "cell_type": "markdown",
      "metadata": {
        "id": "1NkfrA2l6DBF"
      },
      "source": [
        "## (Optional) Partially loading pre-trained weights from another model\n",
        "\n",
        "An interesting point to note about Transducer models - the Acoustic model config (and therefore the Acoustic model itself) can be shared between CTC and Transducer models.\n",
        "\n",
        "This means that we can initialize the weights of a Transducer's Acoustic model with weights from a pre-trained CTC encoder model.\n",
        "\n",
        "------\n",
        "\n",
        "**Note**: This step is optional and not necessary at all to train a Transducer model. Below, we show the steps that we would take if we wanted to do this, however as the loaded model has different kernel sizes compared to the current model, the checkpoint cannot be loaded."
      ]
    },
    {
      "cell_type": "code",
      "execution_count": 27,
      "metadata": {
        "id": "OAjMrbK-dtIv"
      },
      "outputs": [],
      "source": [
        "# Load a small CTC model\n",
        "# ctc_model = nemo_asr.models.EncDecCTCModelBPE.from_pretrained(\"stt_en_citrinet_256\", map_location='cpu')\n",
        "# trans_model = nemo_asr.models.EncDecRNNTBPEModel.from_pretrained(\"stt_en_fastconformer_transducer_large\", map_location='cpu')"
      ]
    },
    {
      "cell_type": "markdown",
      "metadata": {
        "id": "urK_ZtVKeEpR"
      },
      "source": [
        "------\n",
        "\n",
        "Then load the state dict of the CTC model's encoder into the Transducer model's encoder."
      ]
    },
    {
      "cell_type": "code",
      "execution_count": 28,
      "metadata": {
        "id": "Ugz8Y8eieLMK"
      },
      "outputs": [],
      "source": [
        "# <<< NOTE: This is only for demonstration ! >>>\n",
        "# Below cell will fail because the two model's have incompatible kernel sizes in their Conv layers.\n",
        "\n",
        "# <<< NOTE: Below cell is only shown to illustrate the method >>>\n",
        "# model.encoder.load_state_dict(trans_model.encoder.state_dict(), strict=True)"
      ]
    },
    {
      "cell_type": "markdown",
      "metadata": {
        "id": "0VV1HNVD6DDc"
      },
      "source": [
        "# Training on AN4\n",
        "\n",
        "Now that the model is ready, we can finally train it!"
      ]
    },
    {
      "cell_type": "code",
      "execution_count": 29,
      "metadata": {
        "id": "OS_U6uO-fnW9"
      },
      "outputs": [
        {
          "name": "stdout",
          "output_type": "stream",
          "text": [
            "[NeMo I 2025-07-18 15:02:43 exp_manager:561] ExpManager schema\n",
            "[NeMo I 2025-07-18 15:02:43 exp_manager:562] {'explicit_log_dir': None, 'exp_dir': None, 'name': None, 'version': None, 'use_datetime_version': True, 'resume_if_exists': False, 'resume_past_end': False, 'resume_ignore_no_checkpoint': False, 'resume_from_checkpoint': None, 'create_tensorboard_logger': True, 'summary_writer_kwargs': None, 'create_wandb_logger': False, 'wandb_logger_kwargs': None, 'create_mlflow_logger': False, 'mlflow_logger_kwargs': {'experiment_name': None, 'tracking_uri': None, 'tags': None, 'save_dir': './mlruns', 'prefix': '', 'artifact_location': None, 'run_id': None, 'log_model': False}, 'create_dllogger_logger': False, 'dllogger_logger_kwargs': {'verbose': False, 'stdout': False, 'json_file': './dllogger.json'}, 'create_clearml_logger': False, 'clearml_logger_kwargs': {'project': None, 'task': None, 'connect_pytorch': False, 'model_name': None, 'tags': None, 'log_model': False, 'log_cfg': False, 'log_metrics': False}, 'create_neptune_logger': False, 'neptune_logger_kwargs': None, 'create_checkpoint_callback': True, 'checkpoint_callback_params': {'filepath': None, 'dirpath': None, 'filename': None, 'monitor': 'val_loss', 'verbose': True, 'save_last': True, 'save_top_k': 3, 'save_weights_only': False, 'mode': 'min', 'auto_insert_metric_name': True, 'every_n_epochs': 1, 'every_n_train_steps': None, 'train_time_interval': None, 'prefix': None, 'postfix': '.nemo', 'save_best_model': False, 'always_save_nemo': False, 'save_nemo_on_train_end': True, 'model_parallel_size': None, 'save_on_train_epoch_end': False, 'async_save': False, 'save_last_n_optim_states': -1}, 'create_early_stopping_callback': False, 'early_stopping_callback_params': {'monitor': 'val_loss', 'mode': 'min', 'min_delta': 0.001, 'patience': 10, 'verbose': True, 'strict': True, 'check_finite': True, 'stopping_threshold': None, 'divergence_threshold': None, 'check_on_train_epoch_end': None, 'log_rank_zero_only': False}, 'create_preemption_callback': True, 'files_to_copy': None, 'log_step_timing': True, 'log_delta_step_timing': False, 'step_timing_kwargs': {'reduction': 'mean', 'sync_cuda': False, 'buffer_size': 1}, 'log_local_rank_0_only': False, 'log_global_rank_0_only': False, 'disable_validation_on_resume': True, 'ema': {'enable': False, 'decay': 0.999, 'cpu_offload': False, 'validate_original_weights': False, 'every_n_steps': 1}, 'max_time_per_run': None, 'seconds_to_sleep': 5.0, 'create_straggler_detection_callback': False, 'straggler_detection_params': {'report_time_interval': 300.0, 'calc_relative_gpu_perf': True, 'calc_individual_gpu_perf': True, 'num_gpu_perf_scores_to_log': 5, 'gpu_relative_perf_threshold': 0.7, 'gpu_individual_perf_threshold': 0.7, 'stop_if_detected': False}, 'create_fault_tolerance_callback': False, 'fault_tolerance': {'workload_check_interval': 5.0, 'initial_rank_heartbeat_timeout': 3600.0, 'rank_heartbeat_timeout': 2700.0, 'calculate_timeouts': True, 'safety_factor': 5.0, 'rank_termination_signal': <Signals.SIGKILL: 9>, 'log_level': 'INFO', 'max_rank_restarts': 0, 'max_subsequent_job_failures': 0, 'additional_ft_launcher_args': '', 'simulated_fault': None}, 'log_tflops_per_sec_per_gpu': True}\n",
            "[NeMo I 2025-07-18 15:02:43 exp_manager:622] Experiments will be logged at experiments/Transducer-Model/2025-07-18_15-02-43\n",
            "[NeMo I 2025-07-18 15:02:43 exp_manager:1213] TensorboardLogger has been set up\n",
            "[NeMo I 2025-07-18 15:02:43 exp_manager:767] TFLOPs per sec per GPU will be calculated, conditioned on supported models. Defaults to -1 upon failure.\n"
          ]
        }
      ],
      "source": [
        "# Prepare NeMo's Experiment manager to handle checkpoint saving and logging for us\n",
        "from nemo.utils import exp_manager\n",
        "\n",
        "# Environment variable generally used for multi-node multi-gpu training.\n",
        "# In notebook environments, this flag is unnecessary and can cause logs of multiple training runs to overwrite each other.\n",
        "os.environ.pop('NEMO_EXPM_VERSION', None)\n",
        "\n",
        "exp_config = exp_manager.ExpManagerConfig(\n",
        "    exp_dir=f'experiments/',\n",
        "    name=f\"Transducer-Model\",\n",
        "    checkpoint_callback_params=exp_manager.CallbackParams(\n",
        "        monitor=\"val_wer\",\n",
        "        mode=\"min\",\n",
        "        always_save_nemo=True,\n",
        "        save_best_model=True,\n",
        "    ),\n",
        ")\n",
        "\n",
        "exp_config = OmegaConf.structured(exp_config)\n",
        "\n",
        "logdir = exp_manager.exp_manager(trainer, exp_config)"
      ]
    },
    {
      "cell_type": "code",
      "execution_count": 30,
      "metadata": {
        "id": "SDleCL0Zf7lU"
      },
      "outputs": [
        {
          "name": "stdout",
          "output_type": "stream",
          "text": [
            "To use TensorBoard, please use this notebook in a Google Colab environment.\n"
          ]
        }
      ],
      "source": [
        "try:\n",
        "  from google import colab\n",
        "  COLAB_ENV = True\n",
        "except (ImportError, ModuleNotFoundError):\n",
        "  COLAB_ENV = False\n",
        "\n",
        "# Load the TensorBoard notebook extension\n",
        "if COLAB_ENV:\n",
        "  %load_ext tensorboard\n",
        "  %tensorboard --logdir /content/experiments/Transducer-Model/\n",
        "else:\n",
        "  print(\"To use TensorBoard, please use this notebook in a Google Colab environment.\")"
      ]
    },
    {
      "cell_type": "code",
      "execution_count": 31,
      "metadata": {
        "id": "hzqAsK23uYHG"
      },
      "outputs": [],
      "source": [
        "# Release resources prior to training\n",
        "import gc\n",
        "gc.collect()\n",
        "\n",
        "if accelerator == 'gpu':\n",
        "  torch.cuda.empty_cache()"
      ]
    },
    {
      "cell_type": "code",
      "execution_count": 32,
      "metadata": {
        "colab": {
          "background_save": true
        },
        "id": "A4neHTnSgaDb"
      },
      "outputs": [
        {
          "name": "stderr",
          "output_type": "stream",
          "text": [
            "LOCAL_RANK: 0 - CUDA_VISIBLE_DEVICES: [0]\n"
          ]
        },
        {
          "name": "stdout",
          "output_type": "stream",
          "text": [
            "[NeMo I 2025-07-18 15:02:43 modelPT:802] Optimizer config = Novograd (\n",
            "    Parameter Group 0\n",
            "        amsgrad: False\n",
            "        betas: [0.9, 0.0]\n",
            "        eps: 1e-08\n",
            "        grad_averaging: False\n",
            "        lr: 0.05\n",
            "        weight_decay: 0.001\n",
            "    )\n",
            "[NeMo I 2025-07-18 15:02:43 lr_scheduler:950] Scheduler \"<nemo.core.optim.lr_scheduler.CosineAnnealing object at 0x75acc87896f0>\" \n",
            "    will be used during training (effective maximum steps = 570) - \n",
            "    Parameters : \n",
            "    (warmup_steps: null\n",
            "    warmup_ratio: null\n",
            "    min_lr: 1.0e-06\n",
            "    last_epoch: -1\n",
            "    max_steps: 570\n",
            "    )\n"
          ]
        },
        {
          "name": "stderr",
          "output_type": "stream",
          "text": [
            "\n",
            "  | Name              | Type                              | Params | Mode \n",
            "--------------------------------------------------------------------------------\n",
            "0 | preprocessor      | AudioToMelSpectrogramPreprocessor | 0      | train\n",
            "1 | encoder           | ConformerEncoder                  | 605 K  | train\n",
            "2 | decoder           | RNNTDecoder                       | 37.4 K | train\n",
            "3 | joint             | RNNTJoint                         | 12.5 K | train\n",
            "4 | loss              | RNNTLoss                          | 0      | train\n",
            "5 | spec_augmentation | SpectrogramAugmentation           | 0      | train\n",
            "6 | wer               | WER                               | 0      | train\n",
            "--------------------------------------------------------------------------------\n",
            "655 K     Trainable params\n",
            "0         Non-trainable params\n",
            "655 K     Total params\n",
            "2.624     Total estimated model params size (MB)\n",
            "117       Modules in train mode\n",
            "0         Modules in eval mode\n"
          ]
        },
        {
          "name": "stdout",
          "output_type": "stream",
          "text": [
            "Sanity Checking: |          | 0/? [00:00<?, ?it/s]"
          ]
        },
        {
          "name": "stdout",
          "output_type": "stream",
          "text": [
            "[NeMo I 2025-07-18 15:02:43 optional_cuda_graphs:79] Enabled CUDA graphs for module <class 'nemo.collections.asr.models.rnnt_bpe_models.EncDecRNNTBPEModel'>.decoding.decoding\n",
            "[NeMo I 2025-07-18 15:02:43 optional_cuda_graphs:79] Enabled CUDA graphs for module <class 'nemo.collections.asr.metrics.wer.WER'>joint._wer.decoding.decoding\n",
            "Sanity Checking DataLoader 0: 100%|██████████| 2/2 [00:01<00:00,  1.61it/s][NeMo I 2025-07-18 15:02:45 optional_cuda_graphs:53] Disabled CUDA graphs for module <class 'nemo.collections.asr.models.rnnt_bpe_models.EncDecRNNTBPEModel'>.decoding.decoding\n",
            "[NeMo I 2025-07-18 15:02:45 optional_cuda_graphs:53] Disabled CUDA graphs for module <class 'nemo.collections.asr.metrics.wer.WER'>joint._wer.decoding.decoding\n",
            "Training: |          | 0/? [00:00<?, ?it/s]                                [NeMo I 2025-07-18 15:02:45 preemption:56] Preemption requires torch distributed to be initialized, disabling preemption\n",
            "Epoch 0:   0%|          | 0/57 [00:00<?, ?it/s] [NeMo I 2025-07-18 15:02:45 optional_cuda_graphs:53] Disabled CUDA graphs for module <class 'nemo.collections.asr.models.rnnt_bpe_models.EncDecRNNTBPEModel'>.decoding.decoding\n",
            "[NeMo I 2025-07-18 15:02:45 optional_cuda_graphs:53] Disabled CUDA graphs for module <class 'nemo.collections.asr.metrics.wer.WER'>joint._wer.decoding.decoding\n"
          ]
        },
        {
          "name": "stderr",
          "output_type": "stream",
          "text": [
            "[NeMo W 2025-07-18 15:02:46 nemo_logging:361] /home/ubuntu/miniconda3/envs/nemo/lib/python3.10/site-packages/numba/cuda/dispatcher.py:536: NumbaPerformanceWarning: Grid size 16 will likely result in GPU under-utilization due to low occupancy.\n",
            "      warn(NumbaPerformanceWarning(msg))\n",
            "    \n",
            "[NeMo W 2025-07-18 15:02:46 nemo_logging:361] /home/ubuntu/miniconda3/envs/nemo/lib/python3.10/site-packages/numba/cuda/dispatcher.py:536: NumbaPerformanceWarning: Grid size 16 will likely result in GPU under-utilization due to low occupancy.\n",
            "      warn(NumbaPerformanceWarning(msg))\n",
            "    \n",
            "[NeMo W 2025-07-18 15:02:47 nemo_logging:361] /home/ubuntu/miniconda3/envs/nemo/lib/python3.10/site-packages/numba/cuda/dispatcher.py:536: NumbaPerformanceWarning: Grid size 1 will likely result in GPU under-utilization due to low occupancy.\n",
            "      warn(NumbaPerformanceWarning(msg))\n",
            "    \n"
          ]
        },
        {
          "name": "stdout",
          "output_type": "stream",
          "text": [
            "Epoch 0:   2%|▏         | 1/57 [00:02<02:41,  0.35it/s, v_num=2-43, train_step_timing in s=2.830]"
          ]
        },
        {
          "name": "stderr",
          "output_type": "stream",
          "text": [
            "[NeMo W 2025-07-18 15:02:48 nemo_logging:361] /home/ubuntu/miniconda3/envs/nemo/lib/python3.10/site-packages/numba/cuda/dispatcher.py:536: NumbaPerformanceWarning: Grid size 16 will likely result in GPU under-utilization due to low occupancy.\n",
            "      warn(NumbaPerformanceWarning(msg))\n",
            "    \n",
            "[NeMo W 2025-07-18 15:02:48 nemo_logging:361] /home/ubuntu/miniconda3/envs/nemo/lib/python3.10/site-packages/numba/cuda/dispatcher.py:536: NumbaPerformanceWarning: Grid size 1 will likely result in GPU under-utilization due to low occupancy.\n",
            "      warn(NumbaPerformanceWarning(msg))\n",
            "    \n"
          ]
        },
        {
          "name": "stdout",
          "output_type": "stream",
          "text": [
            "Epoch 0:  98%|█████████▊| 56/57 [00:07<00:00,  7.23it/s, v_num=2-43, train_step_timing in s=0.082] "
          ]
        },
        {
          "name": "stderr",
          "output_type": "stream",
          "text": [
            "[NeMo W 2025-07-18 15:02:53 nemo_logging:361] /home/ubuntu/miniconda3/envs/nemo/lib/python3.10/site-packages/numba/cuda/dispatcher.py:536: NumbaPerformanceWarning: Grid size 14 will likely result in GPU under-utilization due to low occupancy.\n",
            "      warn(NumbaPerformanceWarning(msg))\n",
            "    \n"
          ]
        },
        {
          "name": "stdout",
          "output_type": "stream",
          "text": [
            "Epoch 0: 100%|██████████| 57/57 [00:07<00:00,  7.27it/s, v_num=2-43, train_step_timing in s=0.0877][NeMo I 2025-07-18 15:02:53 optional_cuda_graphs:79] Enabled CUDA graphs for module <class 'nemo.collections.asr.models.rnnt_bpe_models.EncDecRNNTBPEModel'>.decoding.decoding\n",
            "[NeMo I 2025-07-18 15:02:53 optional_cuda_graphs:79] Enabled CUDA graphs for module <class 'nemo.collections.asr.metrics.wer.WER'>joint._wer.decoding.decoding\n",
            "[NeMo I 2025-07-18 15:02:54 optional_cuda_graphs:53] Disabled CUDA graphs for module <class 'nemo.collections.asr.models.rnnt_bpe_models.EncDecRNNTBPEModel'>.decoding.decoding\n",
            "[NeMo I 2025-07-18 15:02:54 optional_cuda_graphs:53] Disabled CUDA graphs for module <class 'nemo.collections.asr.metrics.wer.WER'>joint._wer.decoding.decoding\n",
            "Epoch 0: 100%|██████████| 57/57 [00:08<00:00,  6.42it/s, v_num=2-43, train_step_timing in s=0.0877]"
          ]
        },
        {
          "name": "stderr",
          "output_type": "stream",
          "text": [
            "Epoch 0, global step 57: 'val_wer' reached 1.00000 (best 1.00000), saving model to '/home/ubuntu/nvidia_nemo/tutorials/asr/experiments/Transducer-Model/2025-07-18_15-02-43/checkpoints/Transducer-Model--val_wer=1.0000-epoch=0.ckpt' as top 3\n"
          ]
        },
        {
          "name": "stdout",
          "output_type": "stream",
          "text": [
            "[NeMo I 2025-07-18 15:02:54 nemo_model_checkpoint:546] Checkpoint save for step 57 started at 1752850974.4142592.\n",
            "[NeMo I 2025-07-18 15:02:54 nemo_model_checkpoint:546] Checkpoint save for step 57 started at 1752850974.5136685.\n",
            "[NeMo I 2025-07-18 15:02:54 nemo_model_checkpoint:236] New best .nemo model saved to: /home/ubuntu/nvidia_nemo/tutorials/asr/experiments/Transducer-Model/2025-07-18_15-02-43/checkpoints/Transducer-Model.nemo\n",
            "Epoch 0: 100%|██████████| 57/57 [00:09<00:00,  6.18it/s, v_num=2-43, train_step_timing in s=0.0877][NeMo I 2025-07-18 15:02:54 optional_cuda_graphs:79] Enabled CUDA graphs for module <class 'nemo.collections.asr.models.rnnt_bpe_models.EncDecRNNTBPEModel'>.decoding.decoding\n",
            "[NeMo I 2025-07-18 15:02:54 optional_cuda_graphs:79] Enabled CUDA graphs for module <class 'nemo.collections.asr.metrics.wer.WER'>joint._wer.decoding.decoding\n",
            "Epoch 1:   0%|          | 0/57 [00:00<?, ?it/s, v_num=2-43, train_step_timing in s=0.0877]         [NeMo I 2025-07-18 15:02:54 optional_cuda_graphs:53] Disabled CUDA graphs for module <class 'nemo.collections.asr.models.rnnt_bpe_models.EncDecRNNTBPEModel'>.decoding.decoding\n",
            "[NeMo I 2025-07-18 15:02:54 optional_cuda_graphs:53] Disabled CUDA graphs for module <class 'nemo.collections.asr.metrics.wer.WER'>joint._wer.decoding.decoding\n",
            "Epoch 1: 100%|██████████| 57/57 [00:05<00:00, 10.63it/s, v_num=2-43, train_step_timing in s=0.0801][NeMo I 2025-07-18 15:03:00 optional_cuda_graphs:79] Enabled CUDA graphs for module <class 'nemo.collections.asr.models.rnnt_bpe_models.EncDecRNNTBPEModel'>.decoding.decoding\n",
            "[NeMo I 2025-07-18 15:03:00 optional_cuda_graphs:79] Enabled CUDA graphs for module <class 'nemo.collections.asr.metrics.wer.WER'>joint._wer.decoding.decoding\n",
            "[NeMo I 2025-07-18 15:03:01 optional_cuda_graphs:53] Disabled CUDA graphs for module <class 'nemo.collections.asr.models.rnnt_bpe_models.EncDecRNNTBPEModel'>.decoding.decoding\n",
            "[NeMo I 2025-07-18 15:03:01 optional_cuda_graphs:53] Disabled CUDA graphs for module <class 'nemo.collections.asr.metrics.wer.WER'>joint._wer.decoding.decoding\n",
            "Epoch 1: 100%|██████████| 57/57 [00:06<00:00,  8.86it/s, v_num=2-43, train_step_timing in s=0.0801]"
          ]
        },
        {
          "name": "stderr",
          "output_type": "stream",
          "text": [
            "Epoch 1, global step 114: 'val_wer' reached 1.00000 (best 1.00000), saving model to '/home/ubuntu/nvidia_nemo/tutorials/asr/experiments/Transducer-Model/2025-07-18_15-02-43/checkpoints/Transducer-Model--val_wer=1.0000-epoch=1.ckpt' as top 3\n"
          ]
        },
        {
          "name": "stdout",
          "output_type": "stream",
          "text": [
            "[NeMo I 2025-07-18 15:03:01 nemo_model_checkpoint:546] Checkpoint save for step 114 started at 1752850981.1953294.\n",
            "[NeMo I 2025-07-18 15:03:01 nemo_model_checkpoint:546] Checkpoint save for step 114 started at 1752850981.2910526.\n",
            "Epoch 1: 100%|██████████| 57/57 [00:06<00:00,  8.60it/s, v_num=2-43, train_step_timing in s=0.0801][NeMo I 2025-07-18 15:03:01 optional_cuda_graphs:79] Enabled CUDA graphs for module <class 'nemo.collections.asr.models.rnnt_bpe_models.EncDecRNNTBPEModel'>.decoding.decoding\n",
            "[NeMo I 2025-07-18 15:03:01 optional_cuda_graphs:79] Enabled CUDA graphs for module <class 'nemo.collections.asr.metrics.wer.WER'>joint._wer.decoding.decoding\n",
            "Epoch 2:   0%|          | 0/57 [00:00<?, ?it/s, v_num=2-43, train_step_timing in s=0.0801]         [NeMo I 2025-07-18 15:03:01 optional_cuda_graphs:53] Disabled CUDA graphs for module <class 'nemo.collections.asr.models.rnnt_bpe_models.EncDecRNNTBPEModel'>.decoding.decoding\n",
            "[NeMo I 2025-07-18 15:03:01 optional_cuda_graphs:53] Disabled CUDA graphs for module <class 'nemo.collections.asr.metrics.wer.WER'>joint._wer.decoding.decoding\n",
            "Epoch 2: 100%|██████████| 57/57 [00:05<00:00, 10.65it/s, v_num=2-43, train_step_timing in s=0.0833][NeMo I 2025-07-18 15:03:07 optional_cuda_graphs:79] Enabled CUDA graphs for module <class 'nemo.collections.asr.models.rnnt_bpe_models.EncDecRNNTBPEModel'>.decoding.decoding\n",
            "[NeMo I 2025-07-18 15:03:07 optional_cuda_graphs:79] Enabled CUDA graphs for module <class 'nemo.collections.asr.metrics.wer.WER'>joint._wer.decoding.decoding\n",
            "[NeMo I 2025-07-18 15:03:07 optional_cuda_graphs:53] Disabled CUDA graphs for module <class 'nemo.collections.asr.models.rnnt_bpe_models.EncDecRNNTBPEModel'>.decoding.decoding\n",
            "[NeMo I 2025-07-18 15:03:07 optional_cuda_graphs:53] Disabled CUDA graphs for module <class 'nemo.collections.asr.metrics.wer.WER'>joint._wer.decoding.decoding\n",
            "Epoch 2: 100%|██████████| 57/57 [00:06<00:00,  8.88it/s, v_num=2-43, train_step_timing in s=0.0833]"
          ]
        },
        {
          "name": "stderr",
          "output_type": "stream",
          "text": [
            "Epoch 2, global step 171: 'val_wer' reached 1.00000 (best 1.00000), saving model to '/home/ubuntu/nvidia_nemo/tutorials/asr/experiments/Transducer-Model/2025-07-18_15-02-43/checkpoints/Transducer-Model--val_wer=1.0000-epoch=2.ckpt' as top 3\n"
          ]
        },
        {
          "name": "stdout",
          "output_type": "stream",
          "text": [
            "[NeMo I 2025-07-18 15:03:07 nemo_model_checkpoint:546] Checkpoint save for step 171 started at 1752850987.8070128.\n",
            "[NeMo I 2025-07-18 15:03:07 nemo_model_checkpoint:546] Checkpoint save for step 171 started at 1752850987.903347.\n",
            "Epoch 2: 100%|██████████| 57/57 [00:06<00:00,  8.62it/s, v_num=2-43, train_step_timing in s=0.0833][NeMo I 2025-07-18 15:03:08 optional_cuda_graphs:79] Enabled CUDA graphs for module <class 'nemo.collections.asr.models.rnnt_bpe_models.EncDecRNNTBPEModel'>.decoding.decoding\n",
            "[NeMo I 2025-07-18 15:03:08 optional_cuda_graphs:79] Enabled CUDA graphs for module <class 'nemo.collections.asr.metrics.wer.WER'>joint._wer.decoding.decoding\n",
            "Epoch 3:   0%|          | 0/57 [00:00<?, ?it/s, v_num=2-43, train_step_timing in s=0.0833]         [NeMo I 2025-07-18 15:03:08 optional_cuda_graphs:53] Disabled CUDA graphs for module <class 'nemo.collections.asr.models.rnnt_bpe_models.EncDecRNNTBPEModel'>.decoding.decoding\n",
            "[NeMo I 2025-07-18 15:03:08 optional_cuda_graphs:53] Disabled CUDA graphs for module <class 'nemo.collections.asr.metrics.wer.WER'>joint._wer.decoding.decoding\n",
            "Epoch 3: 100%|██████████| 57/57 [00:05<00:00, 10.76it/s, v_num=2-43, train_step_timing in s=0.0789][NeMo I 2025-07-18 15:03:13 optional_cuda_graphs:79] Enabled CUDA graphs for module <class 'nemo.collections.asr.models.rnnt_bpe_models.EncDecRNNTBPEModel'>.decoding.decoding\n",
            "[NeMo I 2025-07-18 15:03:13 optional_cuda_graphs:79] Enabled CUDA graphs for module <class 'nemo.collections.asr.metrics.wer.WER'>joint._wer.decoding.decoding\n",
            "[NeMo I 2025-07-18 15:03:14 optional_cuda_graphs:53] Disabled CUDA graphs for module <class 'nemo.collections.asr.models.rnnt_bpe_models.EncDecRNNTBPEModel'>.decoding.decoding\n",
            "[NeMo I 2025-07-18 15:03:14 optional_cuda_graphs:53] Disabled CUDA graphs for module <class 'nemo.collections.asr.metrics.wer.WER'>joint._wer.decoding.decoding\n",
            "Epoch 3: 100%|██████████| 57/57 [00:06<00:00,  8.94it/s, v_num=2-43, train_step_timing in s=0.0789]"
          ]
        },
        {
          "name": "stderr",
          "output_type": "stream",
          "text": [
            "Epoch 3, global step 228: 'val_wer' was not in top 3\n"
          ]
        },
        {
          "name": "stdout",
          "output_type": "stream",
          "text": [
            "[NeMo I 2025-07-18 15:03:14 nemo_model_checkpoint:546] Checkpoint save for step 228 started at 1752850994.3780248.\n",
            "Epoch 3: 100%|██████████| 57/57 [00:06<00:00,  8.81it/s, v_num=2-43, train_step_timing in s=0.0789][NeMo I 2025-07-18 15:03:14 optional_cuda_graphs:79] Enabled CUDA graphs for module <class 'nemo.collections.asr.models.rnnt_bpe_models.EncDecRNNTBPEModel'>.decoding.decoding\n",
            "[NeMo I 2025-07-18 15:03:14 optional_cuda_graphs:79] Enabled CUDA graphs for module <class 'nemo.collections.asr.metrics.wer.WER'>joint._wer.decoding.decoding\n",
            "Epoch 4:   0%|          | 0/57 [00:00<?, ?it/s, v_num=2-43, train_step_timing in s=0.0789]         [NeMo I 2025-07-18 15:03:14 optional_cuda_graphs:53] Disabled CUDA graphs for module <class 'nemo.collections.asr.models.rnnt_bpe_models.EncDecRNNTBPEModel'>.decoding.decoding\n",
            "[NeMo I 2025-07-18 15:03:14 optional_cuda_graphs:53] Disabled CUDA graphs for module <class 'nemo.collections.asr.metrics.wer.WER'>joint._wer.decoding.decoding\n",
            "Epoch 4: 100%|██████████| 57/57 [00:05<00:00, 10.71it/s, v_num=2-43, train_step_timing in s=0.079] [NeMo I 2025-07-18 15:03:20 optional_cuda_graphs:79] Enabled CUDA graphs for module <class 'nemo.collections.asr.models.rnnt_bpe_models.EncDecRNNTBPEModel'>.decoding.decoding\n",
            "[NeMo I 2025-07-18 15:03:20 optional_cuda_graphs:79] Enabled CUDA graphs for module <class 'nemo.collections.asr.metrics.wer.WER'>joint._wer.decoding.decoding\n",
            "[NeMo I 2025-07-18 15:03:20 optional_cuda_graphs:53] Disabled CUDA graphs for module <class 'nemo.collections.asr.models.rnnt_bpe_models.EncDecRNNTBPEModel'>.decoding.decoding\n",
            "[NeMo I 2025-07-18 15:03:20 optional_cuda_graphs:53] Disabled CUDA graphs for module <class 'nemo.collections.asr.metrics.wer.WER'>joint._wer.decoding.decoding\n",
            "Epoch 4: 100%|██████████| 57/57 [00:06<00:00,  8.90it/s, v_num=2-43, train_step_timing in s=0.079]"
          ]
        },
        {
          "name": "stderr",
          "output_type": "stream",
          "text": [
            "Epoch 4, global step 285: 'val_wer' was not in top 3\n"
          ]
        },
        {
          "name": "stdout",
          "output_type": "stream",
          "text": [
            "[NeMo I 2025-07-18 15:03:20 nemo_model_checkpoint:546] Checkpoint save for step 285 started at 1752851000.8870554.\n",
            "Epoch 4: 100%|██████████| 57/57 [00:06<00:00,  8.76it/s, v_num=2-43, train_step_timing in s=0.079][NeMo I 2025-07-18 15:03:20 optional_cuda_graphs:79] Enabled CUDA graphs for module <class 'nemo.collections.asr.models.rnnt_bpe_models.EncDecRNNTBPEModel'>.decoding.decoding\n",
            "[NeMo I 2025-07-18 15:03:20 optional_cuda_graphs:79] Enabled CUDA graphs for module <class 'nemo.collections.asr.metrics.wer.WER'>joint._wer.decoding.decoding\n",
            "Epoch 5:   0%|          | 0/57 [00:00<?, ?it/s, v_num=2-43, train_step_timing in s=0.079]         [NeMo I 2025-07-18 15:03:20 optional_cuda_graphs:53] Disabled CUDA graphs for module <class 'nemo.collections.asr.models.rnnt_bpe_models.EncDecRNNTBPEModel'>.decoding.decoding\n",
            "[NeMo I 2025-07-18 15:03:20 optional_cuda_graphs:53] Disabled CUDA graphs for module <class 'nemo.collections.asr.metrics.wer.WER'>joint._wer.decoding.decoding\n",
            "Epoch 5: 100%|██████████| 57/57 [00:05<00:00, 10.47it/s, v_num=2-43, train_step_timing in s=0.089] [NeMo I 2025-07-18 15:03:26 optional_cuda_graphs:79] Enabled CUDA graphs for module <class 'nemo.collections.asr.models.rnnt_bpe_models.EncDecRNNTBPEModel'>.decoding.decoding\n",
            "[NeMo I 2025-07-18 15:03:26 optional_cuda_graphs:79] Enabled CUDA graphs for module <class 'nemo.collections.asr.metrics.wer.WER'>joint._wer.decoding.decoding\n",
            "[NeMo I 2025-07-18 15:03:27 optional_cuda_graphs:53] Disabled CUDA graphs for module <class 'nemo.collections.asr.models.rnnt_bpe_models.EncDecRNNTBPEModel'>.decoding.decoding\n",
            "[NeMo I 2025-07-18 15:03:27 optional_cuda_graphs:53] Disabled CUDA graphs for module <class 'nemo.collections.asr.metrics.wer.WER'>joint._wer.decoding.decoding\n",
            "Epoch 5: 100%|██████████| 57/57 [00:06<00:00,  8.71it/s, v_num=2-43, train_step_timing in s=0.089]"
          ]
        },
        {
          "name": "stderr",
          "output_type": "stream",
          "text": [
            "Epoch 5, global step 342: 'val_wer' was not in top 3\n"
          ]
        },
        {
          "name": "stdout",
          "output_type": "stream",
          "text": [
            "[NeMo I 2025-07-18 15:03:27 nemo_model_checkpoint:546] Checkpoint save for step 342 started at 1752851007.5373688.\n",
            "Epoch 5: 100%|██████████| 57/57 [00:06<00:00,  8.58it/s, v_num=2-43, train_step_timing in s=0.089][NeMo I 2025-07-18 15:03:27 optional_cuda_graphs:79] Enabled CUDA graphs for module <class 'nemo.collections.asr.models.rnnt_bpe_models.EncDecRNNTBPEModel'>.decoding.decoding\n",
            "[NeMo I 2025-07-18 15:03:27 optional_cuda_graphs:79] Enabled CUDA graphs for module <class 'nemo.collections.asr.metrics.wer.WER'>joint._wer.decoding.decoding\n",
            "Epoch 6:   0%|          | 0/57 [00:00<?, ?it/s, v_num=2-43, train_step_timing in s=0.089]         [NeMo I 2025-07-18 15:03:27 optional_cuda_graphs:53] Disabled CUDA graphs for module <class 'nemo.collections.asr.models.rnnt_bpe_models.EncDecRNNTBPEModel'>.decoding.decoding\n",
            "[NeMo I 2025-07-18 15:03:27 optional_cuda_graphs:53] Disabled CUDA graphs for module <class 'nemo.collections.asr.metrics.wer.WER'>joint._wer.decoding.decoding\n",
            "Epoch 6: 100%|██████████| 57/57 [00:05<00:00, 10.65it/s, v_num=2-43, train_step_timing in s=0.0845][NeMo I 2025-07-18 15:03:33 optional_cuda_graphs:79] Enabled CUDA graphs for module <class 'nemo.collections.asr.models.rnnt_bpe_models.EncDecRNNTBPEModel'>.decoding.decoding\n",
            "[NeMo I 2025-07-18 15:03:33 optional_cuda_graphs:79] Enabled CUDA graphs for module <class 'nemo.collections.asr.metrics.wer.WER'>joint._wer.decoding.decoding\n",
            "[NeMo I 2025-07-18 15:03:34 optional_cuda_graphs:53] Disabled CUDA graphs for module <class 'nemo.collections.asr.models.rnnt_bpe_models.EncDecRNNTBPEModel'>.decoding.decoding\n",
            "[NeMo I 2025-07-18 15:03:34 optional_cuda_graphs:53] Disabled CUDA graphs for module <class 'nemo.collections.asr.metrics.wer.WER'>joint._wer.decoding.decoding\n",
            "Epoch 6: 100%|██████████| 57/57 [00:06<00:00,  8.83it/s, v_num=2-43, train_step_timing in s=0.0845]"
          ]
        },
        {
          "name": "stderr",
          "output_type": "stream",
          "text": [
            "Epoch 6, global step 399: 'val_wer' was not in top 3\n"
          ]
        },
        {
          "name": "stdout",
          "output_type": "stream",
          "text": [
            "[NeMo I 2025-07-18 15:03:34 nemo_model_checkpoint:546] Checkpoint save for step 399 started at 1752851014.0978484.\n",
            "Epoch 6: 100%|██████████| 57/57 [00:06<00:00,  8.69it/s, v_num=2-43, train_step_timing in s=0.0845][NeMo I 2025-07-18 15:03:34 optional_cuda_graphs:79] Enabled CUDA graphs for module <class 'nemo.collections.asr.models.rnnt_bpe_models.EncDecRNNTBPEModel'>.decoding.decoding\n",
            "[NeMo I 2025-07-18 15:03:34 optional_cuda_graphs:79] Enabled CUDA graphs for module <class 'nemo.collections.asr.metrics.wer.WER'>joint._wer.decoding.decoding\n",
            "Epoch 7:   0%|          | 0/57 [00:00<?, ?it/s, v_num=2-43, train_step_timing in s=0.0845]         [NeMo I 2025-07-18 15:03:34 optional_cuda_graphs:53] Disabled CUDA graphs for module <class 'nemo.collections.asr.models.rnnt_bpe_models.EncDecRNNTBPEModel'>.decoding.decoding\n",
            "[NeMo I 2025-07-18 15:03:34 optional_cuda_graphs:53] Disabled CUDA graphs for module <class 'nemo.collections.asr.metrics.wer.WER'>joint._wer.decoding.decoding\n",
            "Epoch 7: 100%|██████████| 57/57 [00:05<00:00, 10.47it/s, v_num=2-43, train_step_timing in s=0.0821][NeMo I 2025-07-18 15:03:40 optional_cuda_graphs:79] Enabled CUDA graphs for module <class 'nemo.collections.asr.models.rnnt_bpe_models.EncDecRNNTBPEModel'>.decoding.decoding\n",
            "[NeMo I 2025-07-18 15:03:40 optional_cuda_graphs:79] Enabled CUDA graphs for module <class 'nemo.collections.asr.metrics.wer.WER'>joint._wer.decoding.decoding\n",
            "[NeMo I 2025-07-18 15:03:40 optional_cuda_graphs:53] Disabled CUDA graphs for module <class 'nemo.collections.asr.models.rnnt_bpe_models.EncDecRNNTBPEModel'>.decoding.decoding\n",
            "[NeMo I 2025-07-18 15:03:40 optional_cuda_graphs:53] Disabled CUDA graphs for module <class 'nemo.collections.asr.metrics.wer.WER'>joint._wer.decoding.decoding\n",
            "Epoch 7: 100%|██████████| 57/57 [00:06<00:00,  8.74it/s, v_num=2-43, train_step_timing in s=0.0821]"
          ]
        },
        {
          "name": "stderr",
          "output_type": "stream",
          "text": [
            "Epoch 7, global step 456: 'val_wer' was not in top 3\n"
          ]
        },
        {
          "name": "stdout",
          "output_type": "stream",
          "text": [
            "[NeMo I 2025-07-18 15:03:40 nemo_model_checkpoint:546] Checkpoint save for step 456 started at 1752851020.7251391.\n",
            "Epoch 7: 100%|██████████| 57/57 [00:06<00:00,  8.60it/s, v_num=2-43, train_step_timing in s=0.0821][NeMo I 2025-07-18 15:03:40 optional_cuda_graphs:79] Enabled CUDA graphs for module <class 'nemo.collections.asr.models.rnnt_bpe_models.EncDecRNNTBPEModel'>.decoding.decoding\n",
            "[NeMo I 2025-07-18 15:03:40 optional_cuda_graphs:79] Enabled CUDA graphs for module <class 'nemo.collections.asr.metrics.wer.WER'>joint._wer.decoding.decoding\n",
            "Epoch 8:   0%|          | 0/57 [00:00<?, ?it/s, v_num=2-43, train_step_timing in s=0.0821]         [NeMo I 2025-07-18 15:03:40 optional_cuda_graphs:53] Disabled CUDA graphs for module <class 'nemo.collections.asr.models.rnnt_bpe_models.EncDecRNNTBPEModel'>.decoding.decoding\n",
            "[NeMo I 2025-07-18 15:03:40 optional_cuda_graphs:53] Disabled CUDA graphs for module <class 'nemo.collections.asr.metrics.wer.WER'>joint._wer.decoding.decoding\n",
            "Epoch 8: 100%|██████████| 57/57 [00:05<00:00, 10.38it/s, v_num=2-43, train_step_timing in s=0.0806][NeMo I 2025-07-18 15:03:46 optional_cuda_graphs:79] Enabled CUDA graphs for module <class 'nemo.collections.asr.models.rnnt_bpe_models.EncDecRNNTBPEModel'>.decoding.decoding\n",
            "[NeMo I 2025-07-18 15:03:46 optional_cuda_graphs:79] Enabled CUDA graphs for module <class 'nemo.collections.asr.metrics.wer.WER'>joint._wer.decoding.decoding\n",
            "[NeMo I 2025-07-18 15:03:47 optional_cuda_graphs:53] Disabled CUDA graphs for module <class 'nemo.collections.asr.models.rnnt_bpe_models.EncDecRNNTBPEModel'>.decoding.decoding\n",
            "[NeMo I 2025-07-18 15:03:47 optional_cuda_graphs:53] Disabled CUDA graphs for module <class 'nemo.collections.asr.metrics.wer.WER'>joint._wer.decoding.decoding\n",
            "Epoch 8: 100%|██████████| 57/57 [00:06<00:00,  8.59it/s, v_num=2-43, train_step_timing in s=0.0806]"
          ]
        },
        {
          "name": "stderr",
          "output_type": "stream",
          "text": [
            "Epoch 8, global step 513: 'val_wer' was not in top 3\n"
          ]
        },
        {
          "name": "stdout",
          "output_type": "stream",
          "text": [
            "[NeMo I 2025-07-18 15:03:47 nemo_model_checkpoint:546] Checkpoint save for step 513 started at 1752851027.464242.\n",
            "Epoch 8: 100%|██████████| 57/57 [00:06<00:00,  8.46it/s, v_num=2-43, train_step_timing in s=0.0806][NeMo I 2025-07-18 15:03:47 optional_cuda_graphs:79] Enabled CUDA graphs for module <class 'nemo.collections.asr.models.rnnt_bpe_models.EncDecRNNTBPEModel'>.decoding.decoding\n",
            "[NeMo I 2025-07-18 15:03:47 optional_cuda_graphs:79] Enabled CUDA graphs for module <class 'nemo.collections.asr.metrics.wer.WER'>joint._wer.decoding.decoding\n",
            "Epoch 9:   0%|          | 0/57 [00:00<?, ?it/s, v_num=2-43, train_step_timing in s=0.0806]         [NeMo I 2025-07-18 15:03:47 optional_cuda_graphs:53] Disabled CUDA graphs for module <class 'nemo.collections.asr.models.rnnt_bpe_models.EncDecRNNTBPEModel'>.decoding.decoding\n",
            "[NeMo I 2025-07-18 15:03:47 optional_cuda_graphs:53] Disabled CUDA graphs for module <class 'nemo.collections.asr.metrics.wer.WER'>joint._wer.decoding.decoding\n",
            "Epoch 9: 100%|██████████| 57/57 [00:05<00:00, 10.58it/s, v_num=2-43, train_step_timing in s=0.080] [NeMo I 2025-07-18 15:03:53 optional_cuda_graphs:79] Enabled CUDA graphs for module <class 'nemo.collections.asr.models.rnnt_bpe_models.EncDecRNNTBPEModel'>.decoding.decoding\n",
            "[NeMo I 2025-07-18 15:03:53 optional_cuda_graphs:79] Enabled CUDA graphs for module <class 'nemo.collections.asr.metrics.wer.WER'>joint._wer.decoding.decoding\n",
            "[NeMo I 2025-07-18 15:03:54 optional_cuda_graphs:53] Disabled CUDA graphs for module <class 'nemo.collections.asr.models.rnnt_bpe_models.EncDecRNNTBPEModel'>.decoding.decoding\n",
            "[NeMo I 2025-07-18 15:03:54 optional_cuda_graphs:53] Disabled CUDA graphs for module <class 'nemo.collections.asr.metrics.wer.WER'>joint._wer.decoding.decoding\n",
            "Epoch 9: 100%|██████████| 57/57 [00:06<00:00,  8.84it/s, v_num=2-43, train_step_timing in s=0.080]"
          ]
        },
        {
          "name": "stderr",
          "output_type": "stream",
          "text": [
            "Epoch 9, global step 570: 'val_wer' was not in top 3\n"
          ]
        },
        {
          "name": "stdout",
          "output_type": "stream",
          "text": [
            "[NeMo I 2025-07-18 15:03:54 nemo_model_checkpoint:546] Checkpoint save for step 570 started at 1752851034.0214164.\n",
            "Epoch 9: 100%|██████████| 57/57 [00:06<00:00,  8.70it/s, v_num=2-43, train_step_timing in s=0.080][NeMo I 2025-07-18 15:03:54 optional_cuda_graphs:79] Enabled CUDA graphs for module <class 'nemo.collections.asr.models.rnnt_bpe_models.EncDecRNNTBPEModel'>.decoding.decoding\n",
            "[NeMo I 2025-07-18 15:03:54 optional_cuda_graphs:79] Enabled CUDA graphs for module <class 'nemo.collections.asr.metrics.wer.WER'>joint._wer.decoding.decoding\n"
          ]
        },
        {
          "name": "stderr",
          "output_type": "stream",
          "text": [
            "`Trainer.fit` stopped: `max_epochs=10` reached.\n"
          ]
        },
        {
          "name": "stdout",
          "output_type": "stream",
          "text": [
            "Epoch 9: 100%|██████████| 57/57 [00:06<00:00,  8.70it/s, v_num=2-43, train_step_timing in s=0.080]\n",
            "[NeMo I 2025-07-18 15:03:54 nemo_model_checkpoint:546] Checkpoint save for step 570 started at 1752851034.1266387.\n"
          ]
        },
        {
          "name": "stderr",
          "output_type": "stream",
          "text": [
            "Restoring states from the checkpoint path at /home/ubuntu/nvidia_nemo/tutorials/asr/experiments/Transducer-Model/2025-07-18_15-02-43/checkpoints/Transducer-Model--val_wer=1.0000-epoch=0.ckpt\n",
            "Restored all states from the checkpoint at /home/ubuntu/nvidia_nemo/tutorials/asr/experiments/Transducer-Model/2025-07-18_15-02-43/checkpoints/Transducer-Model--val_wer=1.0000-epoch=0.ckpt\n"
          ]
        },
        {
          "name": "stdout",
          "output_type": "stream",
          "text": [
            "[NeMo I 2025-07-18 15:03:54 nemo_model_checkpoint:316] /home/ubuntu/nvidia_nemo/tutorials/asr/experiments/Transducer-Model/2025-07-18_15-02-43/checkpoints/Transducer-Model.nemo already exists, moving existing checkpoint to /home/ubuntu/nvidia_nemo/tutorials/asr/experiments/Transducer-Model/2025-07-18_15-02-43/checkpoints/Transducer-Model-v1.nemo\n",
            "[NeMo I 2025-07-18 15:03:54 nemo_model_checkpoint:288] Removing old .nemo backup /home/ubuntu/nvidia_nemo/tutorials/asr/experiments/Transducer-Model/2025-07-18_15-02-43/checkpoints/Transducer-Model-v1.nemo\n"
          ]
        }
      ],
      "source": [
        "# Train the model\n",
        "trainer.fit(model)"
      ]
    },
    {
      "cell_type": "markdown",
      "metadata": {
        "id": "k0MgsBt_NyyT"
      },
      "source": [
        "-------\n",
        "\n",
        "Lets check what the final performance on the test set."
      ]
    },
    {
      "cell_type": "code",
      "execution_count": 33,
      "metadata": {
        "colab": {
          "background_save": true
        },
        "id": "iEjuXo4BNyOi"
      },
      "outputs": [
        {
          "name": "stderr",
          "output_type": "stream",
          "text": [
            "LOCAL_RANK: 0 - CUDA_VISIBLE_DEVICES: [0]\n"
          ]
        },
        {
          "name": "stdout",
          "output_type": "stream",
          "text": [
            "Testing: |          | 0/? [00:00<?, ?it/s][NeMo I 2025-07-18 15:03:54 optional_cuda_graphs:79] Enabled CUDA graphs for module <class 'nemo.collections.asr.models.rnnt_bpe_models.EncDecRNNTBPEModel'>.decoding.decoding\n",
            "[NeMo I 2025-07-18 15:03:54 optional_cuda_graphs:79] Enabled CUDA graphs for module <class 'nemo.collections.asr.metrics.wer.WER'>joint._wer.decoding.decoding\n",
            "Testing DataLoader 0:   0%|          | 0/9 [00:00<?, ?it/s]"
          ]
        },
        {
          "name": "stdout",
          "output_type": "stream",
          "text": [
            "Testing DataLoader 0: 100%|██████████| 9/9 [00:00<00:00, 12.89it/s]\n"
          ]
        },
        {
          "data": {
            "text/html": [
              "<pre style=\"white-space:pre;overflow-x:auto;line-height:normal;font-family:Menlo,'DejaVu Sans Mono',consolas,'Courier New',monospace\">┏━━━━━━━━━━━━━━━━━━━━━━━━━━━┳━━━━━━━━━━━━━━━━━━━━━━━━━━━┓\n",
              "┃<span style=\"font-weight: bold\">        Test metric        </span>┃<span style=\"font-weight: bold\">       DataLoader 0        </span>┃\n",
              "┡━━━━━━━━━━━━━━━━━━━━━━━━━━━╇━━━━━━━━━━━━━━━━━━━━━━━━━━━┩\n",
              "│<span style=\"color: #008080; text-decoration-color: #008080\">        global_step        </span>│<span style=\"color: #800080; text-decoration-color: #800080\">           57.0            </span>│\n",
              "│<span style=\"color: #008080; text-decoration-color: #008080\">         test_wer          </span>│<span style=\"color: #800080; text-decoration-color: #800080\">            1.0            </span>│\n",
              "└───────────────────────────┴───────────────────────────┘\n",
              "</pre>\n"
            ],
            "text/plain": [
              "┏━━━━━━━━━━━━━━━━━━━━━━━━━━━┳━━━━━━━━━━━━━━━━━━━━━━━━━━━┓\n",
              "┃\u001b[1m \u001b[0m\u001b[1m       Test metric       \u001b[0m\u001b[1m \u001b[0m┃\u001b[1m \u001b[0m\u001b[1m      DataLoader 0       \u001b[0m\u001b[1m \u001b[0m┃\n",
              "┡━━━━━━━━━━━━━━━━━━━━━━━━━━━╇━━━━━━━━━━━━━━━━━━━━━━━━━━━┩\n",
              "│\u001b[36m \u001b[0m\u001b[36m       global_step       \u001b[0m\u001b[36m \u001b[0m│\u001b[35m \u001b[0m\u001b[35m          57.0           \u001b[0m\u001b[35m \u001b[0m│\n",
              "│\u001b[36m \u001b[0m\u001b[36m        test_wer         \u001b[0m\u001b[36m \u001b[0m│\u001b[35m \u001b[0m\u001b[35m           1.0           \u001b[0m\u001b[35m \u001b[0m│\n",
              "└───────────────────────────┴───────────────────────────┘\n"
            ]
          },
          "metadata": {},
          "output_type": "display_data"
        },
        {
          "data": {
            "text/plain": [
              "[{'global_step': 57.0, 'test_wer': 1.0}]"
            ]
          },
          "execution_count": 33,
          "metadata": {},
          "output_type": "execute_result"
        }
      ],
      "source": [
        "trainer.test(model)"
      ]
    },
    {
      "cell_type": "markdown",
      "metadata": {
        "id": "aY6S2SdeN9Be"
      },
      "source": [
        "------\n",
        "\n",
        "The model should obtain some score between 10-12% WER after 50 epochs of training. Quite a good score for just 50 epochs of training a tiny model! Note that these are greedy scores, yet they are pretty strong for such a short training run.\n",
        "\n",
        "We can further improve these scores by using the internal Prediction network to calculate beam scores."
      ]
    },
    {
      "cell_type": "markdown",
      "metadata": {
        "id": "eQUK6b266DF0"
      },
      "source": [
        "# Changing the Decoding Strategy\n",
        "\n",
        "During training, for the sake of efficiency, we were using the `greedy_batch` decoding strategy. However, we might want to perform inference with another method - say, beam search.\n",
        "\n",
        "NeMo allows changing the decoding strategy easily after the model has been trained."
      ]
    },
    {
      "cell_type": "code",
      "execution_count": 34,
      "metadata": {
        "colab": {
          "background_save": true
        },
        "id": "RJtrJKt0gY0i"
      },
      "outputs": [
        {
          "name": "stdout",
          "output_type": "stream",
          "text": [
            "strategy: greedy_batch\n",
            "greedy:\n",
            "  max_symbols: 10\n",
            "beam:\n",
            "  beam_size: 4\n",
            "  score_norm: true\n",
            "  return_best_hypothesis: false\n",
            "  softmax_temperature: 1.0\n",
            "  tsd_max_sym_exp: 10\n",
            "  alsd_max_target_len: 5.0\n",
            "  maes_num_steps: 2\n",
            "  maes_prefix_alpha: 1\n",
            "  maes_expansion_beta: 2\n",
            "  maes_expansion_gamma: 2.3\n",
            "\n"
          ]
        }
      ],
      "source": [
        "import copy\n",
        "\n",
        "decoding_config = copy.deepcopy(config.model.decoding)\n",
        "print(OmegaConf.to_yaml(decoding_config))"
      ]
    },
    {
      "cell_type": "code",
      "execution_count": 35,
      "metadata": {
        "colab": {
          "background_save": true
        },
        "id": "MNL5L1KthC1E"
      },
      "outputs": [],
      "source": [
        "# Update the config for the decoding strategy\n",
        "decoding_config.strategy = \"alsd\"  # Options are `greedy`, `greedy_batch`, `beam`, `tsd` and `alsd`\n",
        "decoding_config.beam.beam_size = 4  # Increase beam size for better scores, but it will take much longer for transcription !"
      ]
    },
    {
      "cell_type": "code",
      "execution_count": 36,
      "metadata": {
        "colab": {
          "background_save": true
        },
        "id": "xQgQRDnlhC7M"
      },
      "outputs": [
        {
          "name": "stdout",
          "output_type": "stream",
          "text": [
            "[NeMo I 2025-07-18 15:03:55 rnnt_models:226] Using RNNT Loss : warprnnt_numba\n",
            "    Loss warprnnt_numba_kwargs: {'fastemit_lambda': 0.001, 'clamp': -1.0}\n",
            "[NeMo I 2025-07-18 15:03:55 rnnt_bpe_models:506] Changed decoding strategy to \n",
            "    model_type: rnnt\n",
            "    strategy: alsd\n",
            "    compute_hypothesis_token_set: false\n",
            "    preserve_alignments: null\n",
            "    tdt_include_token_duration: null\n",
            "    confidence_cfg:\n",
            "      preserve_frame_confidence: false\n",
            "      preserve_token_confidence: false\n",
            "      preserve_word_confidence: false\n",
            "      exclude_blank: true\n",
            "      aggregation: min\n",
            "      tdt_include_duration: false\n",
            "      method_cfg:\n",
            "        name: entropy\n",
            "        entropy_type: tsallis\n",
            "        alpha: 0.33\n",
            "        entropy_norm: exp\n",
            "        temperature: DEPRECATED\n",
            "    fused_batch_size: null\n",
            "    compute_timestamps: null\n",
            "    compute_langs: false\n",
            "    word_seperator: ' '\n",
            "    segment_seperators:\n",
            "    - .\n",
            "    - '!'\n",
            "    - '?'\n",
            "    segment_gap_threshold: null\n",
            "    rnnt_timestamp_type: all\n",
            "    greedy:\n",
            "      max_symbols_per_step: 10\n",
            "      preserve_alignments: false\n",
            "      preserve_frame_confidence: false\n",
            "      tdt_include_token_duration: false\n",
            "      tdt_include_duration_confidence: false\n",
            "      confidence_method_cfg:\n",
            "        name: entropy\n",
            "        entropy_type: tsallis\n",
            "        alpha: 0.33\n",
            "        entropy_norm: exp\n",
            "        temperature: DEPRECATED\n",
            "      loop_labels: true\n",
            "      use_cuda_graph_decoder: true\n",
            "      ngram_lm_model: null\n",
            "      ngram_lm_alpha: 0.0\n",
            "      max_symbols: 10\n",
            "    beam:\n",
            "      beam_size: 4\n",
            "      search_type: default\n",
            "      score_norm: true\n",
            "      return_best_hypothesis: false\n",
            "      tsd_max_sym_exp_per_step: 50\n",
            "      alsd_max_target_len: 5.0\n",
            "      nsc_max_timesteps_expansion: 1\n",
            "      nsc_prefix_alpha: 1\n",
            "      maes_num_steps: 2\n",
            "      maes_prefix_alpha: 1\n",
            "      maes_expansion_gamma: 2.3\n",
            "      maes_expansion_beta: 2\n",
            "      language_model: null\n",
            "      softmax_temperature: 1.0\n",
            "      preserve_alignments: false\n",
            "      ngram_lm_model: null\n",
            "      ngram_lm_alpha: 0.0\n",
            "      hat_subtract_ilm: false\n",
            "      hat_ilm_weight: 0.0\n",
            "      tsd_max_sym_exp: 10\n",
            "    temperature: 1.0\n",
            "    durations: []\n",
            "    big_blank_durations: []\n",
            "    \n"
          ]
        }
      ],
      "source": [
        "# Finally update the model's decoding strategy !\n",
        "model.change_decoding_strategy(decoding_config)"
      ]
    },
    {
      "cell_type": "code",
      "execution_count": 37,
      "metadata": {
        "id": "h7jrCMJvh8vE"
      },
      "outputs": [
        {
          "name": "stderr",
          "output_type": "stream",
          "text": [
            "LOCAL_RANK: 0 - CUDA_VISIBLE_DEVICES: [0]\n"
          ]
        },
        {
          "name": "stdout",
          "output_type": "stream",
          "text": [
            "Testing DataLoader 0:   0%|          | 0/9 [00:00<?, ?it/s]"
          ]
        },
        {
          "name": "stderr",
          "output_type": "stream",
          "text": [
            "Beam search progress:: 100%|██████████| 16/16 [00:04<00:00,  3.65sample/s]\n"
          ]
        },
        {
          "name": "stdout",
          "output_type": "stream",
          "text": [
            "Testing DataLoader 0:  11%|█         | 1/9 [00:05<00:43,  0.18it/s]"
          ]
        },
        {
          "name": "stderr",
          "output_type": "stream",
          "text": [
            "Beam search progress:: 100%|██████████| 16/16 [00:04<00:00,  3.97sample/s]\n"
          ]
        },
        {
          "name": "stdout",
          "output_type": "stream",
          "text": [
            "Testing DataLoader 0:  22%|██▏       | 2/9 [00:10<00:36,  0.19it/s]"
          ]
        },
        {
          "name": "stderr",
          "output_type": "stream",
          "text": [
            "Beam search progress:: 100%|██████████| 16/16 [00:03<00:00,  4.63sample/s]\n"
          ]
        },
        {
          "name": "stdout",
          "output_type": "stream",
          "text": [
            "Testing DataLoader 0:  33%|███▎      | 3/9 [00:14<00:28,  0.21it/s]"
          ]
        },
        {
          "name": "stderr",
          "output_type": "stream",
          "text": [
            "Beam search progress:: 100%|██████████| 16/16 [00:05<00:00,  2.86sample/s]\n"
          ]
        },
        {
          "name": "stdout",
          "output_type": "stream",
          "text": [
            "Testing DataLoader 0:  44%|████▍     | 4/9 [00:21<00:26,  0.19it/s]"
          ]
        },
        {
          "name": "stderr",
          "output_type": "stream",
          "text": [
            "Beam search progress:: 100%|██████████| 16/16 [00:04<00:00,  3.86sample/s]\n"
          ]
        },
        {
          "name": "stdout",
          "output_type": "stream",
          "text": [
            "Testing DataLoader 0:  56%|█████▌    | 5/9 [00:26<00:21,  0.19it/s]"
          ]
        },
        {
          "name": "stderr",
          "output_type": "stream",
          "text": [
            "Beam search progress:: 100%|██████████| 16/16 [00:03<00:00,  4.01sample/s]\n"
          ]
        },
        {
          "name": "stdout",
          "output_type": "stream",
          "text": [
            "Testing DataLoader 0:  67%|██████▋   | 6/9 [00:31<00:15,  0.19it/s]"
          ]
        },
        {
          "name": "stderr",
          "output_type": "stream",
          "text": [
            "Beam search progress:: 100%|██████████| 16/16 [00:03<00:00,  4.72sample/s]\n"
          ]
        },
        {
          "name": "stdout",
          "output_type": "stream",
          "text": [
            "Testing DataLoader 0:  78%|███████▊  | 7/9 [00:35<00:10,  0.20it/s]"
          ]
        },
        {
          "name": "stderr",
          "output_type": "stream",
          "text": [
            "Beam search progress:: 100%|██████████| 16/16 [00:03<00:00,  4.25sample/s]\n"
          ]
        },
        {
          "name": "stdout",
          "output_type": "stream",
          "text": [
            "Testing DataLoader 0:  89%|████████▉ | 8/9 [00:39<00:04,  0.20it/s]"
          ]
        },
        {
          "name": "stderr",
          "output_type": "stream",
          "text": [
            "Beam search progress:: 100%|██████████| 2/2 [00:00<00:00,  3.55sample/s]"
          ]
        },
        {
          "name": "stdout",
          "output_type": "stream",
          "text": [
            "Testing DataLoader 0: 100%|██████████| 9/9 [00:40<00:00,  0.22it/s]\n"
          ]
        },
        {
          "name": "stderr",
          "output_type": "stream",
          "text": [
            "\n"
          ]
        },
        {
          "data": {
            "text/html": [
              "<pre style=\"white-space:pre;overflow-x:auto;line-height:normal;font-family:Menlo,'DejaVu Sans Mono',consolas,'Courier New',monospace\">┏━━━━━━━━━━━━━━━━━━━━━━━━━━━┳━━━━━━━━━━━━━━━━━━━━━━━━━━━┓\n",
              "┃<span style=\"font-weight: bold\">        Test metric        </span>┃<span style=\"font-weight: bold\">       DataLoader 0        </span>┃\n",
              "┡━━━━━━━━━━━━━━━━━━━━━━━━━━━╇━━━━━━━━━━━━━━━━━━━━━━━━━━━┩\n",
              "│<span style=\"color: #008080; text-decoration-color: #008080\">        global_step        </span>│<span style=\"color: #800080; text-decoration-color: #800080\">           57.0            </span>│\n",
              "│<span style=\"color: #008080; text-decoration-color: #008080\">         test_wer          </span>│<span style=\"color: #800080; text-decoration-color: #800080\">            1.0            </span>│\n",
              "└───────────────────────────┴───────────────────────────┘\n",
              "</pre>\n"
            ],
            "text/plain": [
              "┏━━━━━━━━━━━━━━━━━━━━━━━━━━━┳━━━━━━━━━━━━━━━━━━━━━━━━━━━┓\n",
              "┃\u001b[1m \u001b[0m\u001b[1m       Test metric       \u001b[0m\u001b[1m \u001b[0m┃\u001b[1m \u001b[0m\u001b[1m      DataLoader 0       \u001b[0m\u001b[1m \u001b[0m┃\n",
              "┡━━━━━━━━━━━━━━━━━━━━━━━━━━━╇━━━━━━━━━━━━━━━━━━━━━━━━━━━┩\n",
              "│\u001b[36m \u001b[0m\u001b[36m       global_step       \u001b[0m\u001b[36m \u001b[0m│\u001b[35m \u001b[0m\u001b[35m          57.0           \u001b[0m\u001b[35m \u001b[0m│\n",
              "│\u001b[36m \u001b[0m\u001b[36m        test_wer         \u001b[0m\u001b[36m \u001b[0m│\u001b[35m \u001b[0m\u001b[35m           1.0           \u001b[0m\u001b[35m \u001b[0m│\n",
              "└───────────────────────────┴───────────────────────────┘\n"
            ]
          },
          "metadata": {},
          "output_type": "display_data"
        },
        {
          "data": {
            "text/plain": [
              "[{'global_step': 57.0, 'test_wer': 1.0}]"
            ]
          },
          "execution_count": 37,
          "metadata": {},
          "output_type": "execute_result"
        }
      ],
      "source": [
        "trainer.test(model)"
      ]
    },
    {
      "cell_type": "markdown",
      "metadata": {
        "id": "rPRFIeHsO8l7"
      },
      "source": [
        "------\n",
        "\n",
        "Here, we improved our scores significantly by using the `Alignment-Length Synchronous Decoding` beam search. Feel free to try the other algorithms and compare the speed-accuracy tradeoff!"
      ]
    },
    {
      "cell_type": "markdown",
      "metadata": {
        "id": "dpUoqG_G6DII"
      },
      "source": [
        "# (Extra) Extracting Transducer Model Alignments\n",
        "\n",
        "Transducers are unique in the sense that for each timestep $t \\le T$, they can emit multiple target tokens $u_t$. During training, this is represented as the $T \\times U$ joint that maps to the vocabulary $V$.\n",
        "\n",
        "During inference, there is no need to compute the full joint $T \\times U$. Instead, after the model predicts the `Transducer Blank` token at the current timestep $t$ while predicting the target token $u_t$, the model will move onto the next acoustic timestep $t + 1$. As such, we can obtain the diagonal alignment of the Transducer model per sample relatively simply.\n",
        "\n",
        "------\n",
        "\n",
        "**Note**: While alignments can be calculated for both greedy and beam search - it is non-trivial to incorporate this alignment information for beam decoding. Therefore NeMo only supports extracting alignments during greedy decoding."
      ]
    },
    {
      "cell_type": "markdown",
      "metadata": {
        "id": "jjoWXknzP7En"
      },
      "source": [
        "-----\n",
        "\n",
        "Restore model to greedy decoding for alignment calculation"
      ]
    },
    {
      "cell_type": "code",
      "execution_count": 38,
      "metadata": {
        "colab": {
          "background_save": true
        },
        "id": "lgpsXSEeQAp4"
      },
      "outputs": [
        {
          "name": "stdout",
          "output_type": "stream",
          "text": [
            "[NeMo I 2025-07-18 15:04:36 rnnt_models:226] Using RNNT Loss : warprnnt_numba\n",
            "    Loss warprnnt_numba_kwargs: {'fastemit_lambda': 0.001, 'clamp': -1.0}\n",
            "[NeMo I 2025-07-18 15:04:36 rnnt_decoding:792] Joint fused batch size <= 0; Will temporarily disable fused batch step in the Joint.\n",
            "[NeMo I 2025-07-18 15:04:36 rnnt_bpe_models:506] Changed decoding strategy to \n",
            "    model_type: rnnt\n",
            "    strategy: greedy_batch\n",
            "    compute_hypothesis_token_set: false\n",
            "    preserve_alignments: true\n",
            "    tdt_include_token_duration: null\n",
            "    confidence_cfg:\n",
            "      preserve_frame_confidence: false\n",
            "      preserve_token_confidence: false\n",
            "      preserve_word_confidence: false\n",
            "      exclude_blank: true\n",
            "      aggregation: min\n",
            "      tdt_include_duration: false\n",
            "      method_cfg:\n",
            "        name: entropy\n",
            "        entropy_type: tsallis\n",
            "        alpha: 0.33\n",
            "        entropy_norm: exp\n",
            "        temperature: DEPRECATED\n",
            "    fused_batch_size: -1\n",
            "    compute_timestamps: null\n",
            "    compute_langs: false\n",
            "    word_seperator: ' '\n",
            "    segment_seperators:\n",
            "    - .\n",
            "    - '!'\n",
            "    - '?'\n",
            "    segment_gap_threshold: null\n",
            "    rnnt_timestamp_type: all\n",
            "    greedy:\n",
            "      max_symbols_per_step: 10\n",
            "      preserve_alignments: false\n",
            "      preserve_frame_confidence: false\n",
            "      tdt_include_token_duration: false\n",
            "      tdt_include_duration_confidence: false\n",
            "      confidence_method_cfg:\n",
            "        name: entropy\n",
            "        entropy_type: tsallis\n",
            "        alpha: 0.33\n",
            "        entropy_norm: exp\n",
            "        temperature: DEPRECATED\n",
            "      loop_labels: true\n",
            "      use_cuda_graph_decoder: true\n",
            "      ngram_lm_model: null\n",
            "      ngram_lm_alpha: 0.0\n",
            "      max_symbols: 10\n",
            "    beam:\n",
            "      beam_size: 4\n",
            "      search_type: default\n",
            "      score_norm: true\n",
            "      return_best_hypothesis: false\n",
            "      tsd_max_sym_exp_per_step: 50\n",
            "      alsd_max_target_len: 5.0\n",
            "      nsc_max_timesteps_expansion: 1\n",
            "      nsc_prefix_alpha: 1\n",
            "      maes_num_steps: 2\n",
            "      maes_prefix_alpha: 1\n",
            "      maes_expansion_gamma: 2.3\n",
            "      maes_expansion_beta: 2\n",
            "      language_model: null\n",
            "      softmax_temperature: 1.0\n",
            "      preserve_alignments: false\n",
            "      ngram_lm_model: null\n",
            "      ngram_lm_alpha: 0.0\n",
            "      hat_subtract_ilm: false\n",
            "      hat_ilm_weight: 0.0\n",
            "      tsd_max_sym_exp: 10\n",
            "    temperature: 1.0\n",
            "    durations: []\n",
            "    big_blank_durations: []\n",
            "    \n"
          ]
        }
      ],
      "source": [
        "decoding_config.strategy = \"greedy_batch\"\n",
        "\n",
        "# Special flag which is generally disabled\n",
        "# Instruct Greedy Decoders to preserve alignment information during autoregressive decoding\n",
        "with open_dict(decoding_config):\n",
        "  decoding_config.preserve_alignments = True\n",
        "  decoding_config.fused_batch_size = -1  # temporarily stop fused batch during inference.\n",
        "\n",
        "model.change_decoding_strategy(decoding_config)"
      ]
    },
    {
      "cell_type": "markdown",
      "metadata": {
        "id": "yUD44kBtdftZ"
      },
      "source": [
        "-------\n",
        "\n",
        "Set up a test data loader that we will use to obtain the alignments for a single batch."
      ]
    },
    {
      "cell_type": "code",
      "execution_count": 39,
      "metadata": {
        "colab": {
          "background_save": true
        },
        "id": "vrhldu5WPkvg"
      },
      "outputs": [],
      "source": [
        "test_dl = model.test_dataloader()\n",
        "test_dl = iter(test_dl)\n",
        "batch = next(test_dl)\n",
        "\n",
        "device = torch.device('cuda' if accelerator == 'gpu' else 'cpu')"
      ]
    },
    {
      "cell_type": "code",
      "execution_count": 40,
      "metadata": {
        "colab": {
          "background_save": true
        },
        "id": "fAagUT_DPQhF"
      },
      "outputs": [],
      "source": [
        "def rnnt_alignments(model, batch):\n",
        "  model = model.to(device)\n",
        "  encoded, encoded_len = model.forward(\n",
        "                        input_signal=batch[0].to(device), input_signal_length=batch[1].to(device)\n",
        "                    )\n",
        "\n",
        "  current_hypotheses = model.decoding.rnnt_decoder_predictions_tensor(\n",
        "                        encoded, encoded_len, return_hypotheses=True\n",
        "                    )\n",
        "\n",
        "  del encoded, encoded_len\n",
        "\n",
        "  # current hypothesis is a tuple of\n",
        "  # 1) best hypothesis\n",
        "  # 2) Sorted list of hypothesis (if using beam search); None otherwise\n",
        "  return current_hypotheses"
      ]
    },
    {
      "cell_type": "code",
      "execution_count": 41,
      "metadata": {
        "colab": {
          "background_save": true
        },
        "id": "OuSrv8lZPhwY"
      },
      "outputs": [],
      "source": [
        "# Get a batch of hypotheses, as well as a batch of all obtained hypotheses (if beam search is used)\n",
        "hypotheses = rnnt_alignments(model, batch)"
      ]
    },
    {
      "cell_type": "markdown",
      "metadata": {
        "id": "P4LknY78d3ZZ"
      },
      "source": [
        "------\n",
        "\n",
        "Select a sample ID from within the batch to observe the alignment information contained in the Hypothesis."
      ]
    },
    {
      "cell_type": "code",
      "execution_count": 42,
      "metadata": {
        "colab": {
          "background_save": true
        },
        "id": "arE7af_DPhyy"
      },
      "outputs": [],
      "source": [
        "# Select the sample ID from within the batch\n",
        "SAMPLE_ID = 0"
      ]
    },
    {
      "cell_type": "code",
      "execution_count": 43,
      "metadata": {
        "id": "S6YcE27WPh1G"
      },
      "outputs": [],
      "source": [
        "# Obtain the hypothesis for this sample, as well as some ground truth information about this sample\n",
        "hypothesis = hypotheses[SAMPLE_ID]\n",
        "original_sample_len = batch[1][SAMPLE_ID]\n",
        "ground_truth = batch[2][SAMPLE_ID]"
      ]
    },
    {
      "cell_type": "code",
      "execution_count": 44,
      "metadata": {
        "id": "oEg_73h9Qe8t"
      },
      "outputs": [
        {
          "name": "stdout",
          "output_type": "stream",
          "text": [
            "Hypothesis(score=0.0, y_sequence=tensor([], device='cuda:0', dtype=torch.int64), text='', dec_out=None, dec_state=(tensor([[[-0.0242,  0.0619, -0.0180, -0.0441,  0.0556, -0.0782, -0.0863,\n",
            "           0.0635,  0.1183, -0.0101,  0.0026, -0.0507,  0.0253, -0.0558,\n",
            "          -0.0889, -0.0571,  0.0171, -0.0800, -0.0482, -0.1455,  0.0117,\n",
            "          -0.0232, -0.0399, -0.0543,  0.0270, -0.0389,  0.0133, -0.0069,\n",
            "           0.0956,  0.0197, -0.0468, -0.0548, -0.0407, -0.0206,  0.0755,\n",
            "          -0.0332, -0.0749,  0.0274, -0.0700,  0.0365, -0.0645, -0.0275,\n",
            "          -0.0171,  0.0602, -0.0900, -0.0740, -0.0204,  0.0485,  0.0151,\n",
            "          -0.1327, -0.1086, -0.0380, -0.0562,  0.0066, -0.1000, -0.0648,\n",
            "           0.1346,  0.0046, -0.1095,  0.0196,  0.0245, -0.0418, -0.0886,\n",
            "           0.1872]]]), tensor([[[-0.0467,  0.1197, -0.0336, -0.0851,  0.0929, -0.1497, -0.1713,\n",
            "           0.1199,  0.2498, -0.0176,  0.0052, -0.1036,  0.0450, -0.0949,\n",
            "          -0.1640, -0.0953,  0.0325, -0.1525, -0.0942, -0.2653,  0.0195,\n",
            "          -0.0434, -0.0736, -0.1052,  0.0526, -0.0742,  0.0259, -0.0122,\n",
            "           0.1935,  0.0407, -0.0928, -0.0932, -0.0697, -0.0392,  0.1280,\n",
            "          -0.0672, -0.1400,  0.0486, -0.1158,  0.0686, -0.1200, -0.0523,\n",
            "          -0.0355,  0.1180, -0.1841, -0.1422, -0.0428,  0.0922,  0.0270,\n",
            "          -0.2275, -0.2366, -0.0713, -0.1036,  0.0121, -0.2217, -0.1341,\n",
            "           0.2621,  0.0084, -0.1845,  0.0401,  0.0488, -0.0799, -0.1499,\n",
            "           0.4073]]])), timestamp=tensor([], device='cuda:0', dtype=torch.int64), alignments=[[(tensor([-2.6501,  2.0120,  1.4979,  2.2375,  0.1906,  1.0346, -2.4997, -2.1267,\n",
            "         1.3653, -0.5222,  1.7886,  1.6589,  0.8099,  0.3494, -0.8698, -0.0449,\n",
            "        -2.0114, -0.0610,  1.1457,  1.0016, -0.7410,  0.4423, -1.8763, -2.1984,\n",
            "        -2.2448,  0.8376,  0.5967,  0.8236, -2.0693, -2.3874, -1.5452,  0.3186,\n",
            "         0.2879, -2.2634,  0.4559,  0.9082, -0.1003,  3.0435,  1.8680,  1.4419,\n",
            "         1.2635,  0.6579, -0.9418,  0.6190,  0.1734, -0.6481, -0.7423, -1.3005,\n",
            "         1.0996, -0.5836,  0.1108, -0.0705,  0.0116, -1.4795,  0.7492, -1.5853,\n",
            "         0.8642,  0.5753,  0.2159, -0.7879, -0.4999, -0.0498, -0.6046, -1.4970,\n",
            "         6.2341]), tensor(64))], [(tensor([-2.6028e+00,  1.9781e+00,  1.4648e+00,  2.3042e+00,  1.6299e-01,\n",
            "         9.4386e-01, -2.5470e+00, -2.1401e+00,  1.3002e+00, -4.4702e-01,\n",
            "         1.8087e+00,  1.5976e+00,  8.2457e-01,  5.3100e-01, -9.2765e-01,\n",
            "        -2.0354e-02, -1.9722e+00,  5.5292e-03,  1.1227e+00,  1.0909e+00,\n",
            "        -7.9789e-01,  5.1240e-01, -1.8516e+00, -2.0729e+00, -2.2581e+00,\n",
            "         9.0435e-01,  6.0299e-01,  8.3412e-01, -2.1829e+00, -2.4001e+00,\n",
            "        -1.4995e+00,  3.8803e-01,  2.6224e-01, -2.2613e+00,  5.3399e-01,\n",
            "         8.7145e-01, -1.4625e-01,  2.9845e+00,  1.8531e+00,  1.4135e+00,\n",
            "         1.1728e+00,  6.0151e-01, -9.3603e-01,  7.0526e-01,  2.1143e-01,\n",
            "        -6.4252e-01, -7.9378e-01, -1.2814e+00,  1.1294e+00, -5.1766e-01,\n",
            "         9.2778e-02, -5.4698e-02,  3.4549e-02, -1.4427e+00,  6.7821e-01,\n",
            "        -1.4941e+00,  8.1777e-01,  5.5842e-01,  2.0291e-01, -7.6427e-01,\n",
            "        -4.4775e-01, -4.0373e-02, -6.4736e-01, -1.5007e+00,  6.1821e+00]), tensor(64))], [(tensor([-2.6051,  1.8778,  1.4710,  2.1897,  0.1515,  0.9962, -2.4670, -2.0247,\n",
            "         1.2520, -0.4646,  1.6980,  1.5278,  0.8017,  0.5457, -0.9201, -0.0543,\n",
            "        -2.0917,  0.0305,  1.0084,  1.1436, -0.7352,  0.4813, -1.9395, -1.9803,\n",
            "        -2.2244,  0.8906,  0.7035,  0.7300, -2.0870, -2.3257, -1.4728,  0.4224,\n",
            "         0.3247, -2.1089,  0.4436,  0.8488, -0.1178,  2.8213,  1.7475,  1.4916,\n",
            "         1.1732,  0.5983, -1.0036,  0.6888,  0.2046, -0.5420, -0.8103, -1.3054,\n",
            "         1.1867, -0.5058,  0.0886, -0.0700,  0.0918, -1.3880,  0.6688, -1.5606,\n",
            "         0.8818,  0.5995,  0.2276, -0.6826, -0.4954, -0.0639, -0.6143, -1.4158,\n",
            "         6.1476]), tensor(64))], [(tensor([-2.4837,  1.7408,  1.5456,  2.1631,  0.2433,  0.7848, -2.5430, -1.9552,\n",
            "         1.1595, -0.4404,  1.5504,  1.4825,  0.8306,  0.7625, -0.9732, -0.0606,\n",
            "        -2.1508,  0.1587,  0.8242,  1.2545, -0.7067,  0.5350, -1.9650, -1.9601,\n",
            "        -2.2624,  1.0089,  0.7274,  0.8153, -2.1818, -2.2725, -1.5226,  0.4151,\n",
            "         0.3113, -2.1248,  0.4550,  0.6950, -0.0683,  2.5989,  1.8273,  1.6300,\n",
            "         1.2658,  0.6626, -0.9857,  0.9852,  0.1610, -0.4476, -0.7199, -1.2562,\n",
            "         1.1972, -0.4932, -0.0805, -0.0178,  0.1927, -1.2841,  0.5588, -1.5628,\n",
            "         0.8962,  0.7227,  0.2352, -0.6421, -0.4601,  0.0405, -0.8222, -1.4946,\n",
            "         6.1674]), tensor(64))], [(tensor([-2.4628,  1.8719,  1.3904,  1.8309,  0.2106,  0.7127, -2.4855, -1.8040,\n",
            "         1.2821, -0.4927,  1.3878,  1.4576,  0.8044,  0.6358, -0.8086, -0.1632,\n",
            "        -2.0474,  0.2754,  0.7124,  1.2693, -0.6257,  0.4497, -1.8248, -1.9064,\n",
            "        -2.1700,  0.9255,  0.7935,  0.6032, -2.0205, -2.1331, -1.2080,  0.4764,\n",
            "         0.3379, -2.1782,  0.4507,  0.5269, -0.0988,  2.2646,  1.7599,  1.6009,\n",
            "         1.3232,  0.5571, -1.0219,  0.7973, -0.0348, -0.4972, -0.4892, -1.2294,\n",
            "         0.9582, -0.6518, -0.0955, -0.0449,  0.1446, -1.2628,  0.5787, -1.4124,\n",
            "         0.8665,  0.6754,  0.3020, -0.5645, -0.3821,  0.0074, -0.7598, -1.3874,\n",
            "         5.9631]), tensor(64))], [(tensor([-2.4511,  1.7972,  1.4424,  1.9653,  0.2506,  0.7099, -2.4979, -1.9375,\n",
            "         1.2255, -0.5385,  1.4393,  1.5115,  0.7381,  0.5607, -0.8633, -0.0358,\n",
            "        -2.0661,  0.1675,  0.8376,  1.3108, -0.5765,  0.4759, -1.8394, -2.0584,\n",
            "        -2.1855,  1.0272,  0.5866,  0.7593, -2.0947, -2.1659, -1.3474,  0.3137,\n",
            "         0.3700, -2.1600,  0.4414,  0.6871, -0.1219,  2.4909,  1.9144,  1.5752,\n",
            "         1.4226,  0.5822, -0.9461,  0.9308,  0.0237, -0.5761, -0.6732, -1.2846,\n",
            "         0.9636, -0.5833, -0.1178, -0.0933,  0.1791, -1.3540,  0.5996, -1.5191,\n",
            "         0.8178,  0.6334,  0.3525, -0.6555, -0.4386, -0.0944, -0.7028, -1.5113,\n",
            "         6.0565]), tensor(64))], [(tensor([-2.4513e+00,  1.8536e+00,  1.5399e+00,  1.9071e+00,  1.7312e-01,\n",
            "         6.8437e-01, -2.5679e+00, -1.9070e+00,  1.2754e+00, -4.6034e-01,\n",
            "         1.4458e+00,  1.5817e+00,  7.9587e-01,  5.5613e-01, -9.1242e-01,\n",
            "        -1.2190e-01, -2.0644e+00,  2.2024e-01,  7.1524e-01,  1.3199e+00,\n",
            "        -5.9377e-01,  4.9795e-01, -1.8556e+00, -1.9724e+00, -2.2501e+00,\n",
            "         9.4590e-01,  7.0697e-01,  6.9180e-01, -2.0905e+00, -2.2904e+00,\n",
            "        -1.2249e+00,  4.1418e-01,  3.9006e-01, -2.2157e+00,  4.9217e-01,\n",
            "         6.0651e-01, -1.3212e-01,  2.3638e+00,  1.9471e+00,  1.6273e+00,\n",
            "         1.4536e+00,  5.9902e-01, -9.9940e-01,  8.7697e-01,  5.8435e-05,\n",
            "        -6.1804e-01, -6.6194e-01, -1.2990e+00,  9.3045e-01, -6.2417e-01,\n",
            "        -1.2758e-01, -3.8356e-02,  1.5764e-01, -1.2723e+00,  6.4862e-01,\n",
            "        -1.4991e+00,  8.0921e-01,  6.6656e-01,  2.9223e-01, -6.3293e-01,\n",
            "        -4.4733e-01, -8.9240e-02, -7.7407e-01, -1.4692e+00,  6.0378e+00]), tensor(64))], [(tensor([-2.4762,  1.8540,  1.4927,  1.9904,  0.2619,  0.7328, -2.4727, -1.9205,\n",
            "         1.2696, -0.4875,  1.5217,  1.5408,  0.8072,  0.5637, -0.8350, -0.0725,\n",
            "        -2.0493,  0.1306,  0.8077,  1.2938, -0.6501,  0.4277, -1.8594, -2.0664,\n",
            "        -2.2098,  1.0081,  0.7057,  0.7470, -2.0725, -2.2102, -1.3849,  0.3759,\n",
            "         0.3093, -2.2465,  0.4479,  0.7053, -0.1783,  2.4955,  1.8986,  1.6194,\n",
            "         1.3995,  0.6098, -0.9794,  0.8341,  0.0272, -0.5623, -0.6091, -1.3361,\n",
            "         0.9907, -0.5928, -0.0566, -0.0652,  0.2008, -1.3769,  0.6381, -1.5572,\n",
            "         0.8789,  0.6506,  0.3144, -0.6393, -0.4972, -0.0786, -0.7439, -1.4995,\n",
            "         6.1332]), tensor(64))], [(tensor([-2.4657e+00,  1.7508e+00,  1.5064e+00,  1.9825e+00,  2.7710e-01,\n",
            "         6.7944e-01, -2.5491e+00, -1.8701e+00,  1.1707e+00, -5.0685e-01,\n",
            "         1.4514e+00,  1.4654e+00,  7.8131e-01,  7.0554e-01, -9.2963e-01,\n",
            "        -5.9348e-02, -2.1348e+00,  2.1949e-01,  7.2190e-01,  1.3367e+00,\n",
            "        -6.3830e-01,  4.9531e-01, -1.8949e+00, -2.0172e+00, -2.2252e+00,\n",
            "         1.0009e+00,  6.9967e-01,  7.3080e-01, -2.1358e+00, -2.1699e+00,\n",
            "        -1.4012e+00,  3.8265e-01,  2.8722e-01, -2.1166e+00,  4.2673e-01,\n",
            "         6.1135e-01, -8.0377e-02,  2.4213e+00,  1.8586e+00,  1.6203e+00,\n",
            "         1.3555e+00,  5.8994e-01, -1.0141e+00,  9.5621e-01,  2.7348e-02,\n",
            "        -4.6575e-01, -6.5908e-01, -1.2988e+00,  1.1012e+00, -5.5973e-01,\n",
            "        -8.7665e-02, -4.5283e-02,  2.3063e-01, -1.2622e+00,  5.8602e-01,\n",
            "        -1.5410e+00,  8.8223e-01,  7.1119e-01,  3.3487e-01, -5.8295e-01,\n",
            "        -3.9418e-01, -5.6007e-03, -7.5521e-01, -1.4818e+00,  6.1233e+00]), tensor(64))], [(tensor([-2.4690,  1.7994,  1.4960,  1.9615,  0.2665,  0.6233, -2.5626, -1.8875,\n",
            "         1.2044, -0.5171,  1.4490,  1.5497,  0.8563,  0.7268, -0.8804, -0.1214,\n",
            "        -2.1283,  0.2534,  0.7306,  1.3743, -0.5860,  0.4662, -1.8901, -2.0510,\n",
            "        -2.2442,  1.0554,  0.7219,  0.7288, -2.1589, -2.1613, -1.3909,  0.4436,\n",
            "         0.3454, -2.1966,  0.5163,  0.6380, -0.0989,  2.3476,  1.8577,  1.6269,\n",
            "         1.4121,  0.6040, -0.9795,  0.9662, -0.0330, -0.5140, -0.6626, -1.3177,\n",
            "         0.9930, -0.5998, -0.1097, -0.0364,  0.2196, -1.2998,  0.6152, -1.5242,\n",
            "         0.8300,  0.6739,  0.2958, -0.6448, -0.4093, -0.0587, -0.8178, -1.4718,\n",
            "         6.1143]), tensor(64))], [(tensor([-2.5778,  1.8659,  1.5015,  2.0861,  0.2660,  0.7540, -2.5696, -1.9714,\n",
            "         1.2040, -0.5464,  1.5253,  1.5999,  0.8383,  0.7305, -0.9316, -0.0806,\n",
            "        -2.1508,  0.2295,  0.8408,  1.2872, -0.6406,  0.5085, -1.9309, -2.0696,\n",
            "        -2.2186,  1.0241,  0.6634,  0.7444, -2.1496, -2.2619, -1.4659,  0.4588,\n",
            "         0.3328, -2.1682,  0.4775,  0.6648, -0.0381,  2.5421,  1.8788,  1.6114,\n",
            "         1.3380,  0.6117, -0.9888,  0.9162,  0.1034, -0.5112, -0.7252, -1.2756,\n",
            "         1.0473, -0.5401, -0.0562, -0.0468,  0.1219, -1.3691,  0.5847, -1.5743,\n",
            "         0.8257,  0.6792,  0.2923, -0.6474, -0.4034, -0.0282, -0.7563, -1.5110,\n",
            "         6.1751]), tensor(64))], [(tensor([-2.4530e+00,  1.7435e+00,  1.5248e+00,  1.9732e+00,  2.5798e-01,\n",
            "         6.4077e-01, -2.5822e+00, -1.8936e+00,  1.1780e+00, -4.9406e-01,\n",
            "         1.4300e+00,  1.5550e+00,  8.2409e-01,  6.6557e-01, -8.9507e-01,\n",
            "        -4.4726e-02, -2.0647e+00,  2.1876e-01,  7.5481e-01,  1.3485e+00,\n",
            "        -6.2376e-01,  5.2622e-01, -1.8440e+00, -2.0152e+00, -2.2702e+00,\n",
            "         9.9852e-01,  6.9192e-01,  7.8413e-01, -2.1240e+00, -2.2170e+00,\n",
            "        -1.3386e+00,  3.5384e-01,  3.6766e-01, -2.1297e+00,  5.0125e-01,\n",
            "         5.8301e-01, -5.3795e-02,  2.4184e+00,  1.8891e+00,  1.6495e+00,\n",
            "         1.4098e+00,  6.0374e-01, -9.5158e-01,  9.8755e-01,  5.3003e-02,\n",
            "        -5.4790e-01, -6.0789e-01, -1.2817e+00,  9.5666e-01, -6.0131e-01,\n",
            "        -1.5632e-01,  2.6651e-03,  2.1358e-01, -1.2446e+00,  5.6244e-01,\n",
            "        -1.4969e+00,  7.7565e-01,  6.3512e-01,  2.6564e-01, -6.4008e-01,\n",
            "        -4.1856e-01, -1.3349e-02, -8.5166e-01, -1.5110e+00,  6.0509e+00]), tensor(64))], [(tensor([-2.5038e+00,  1.7684e+00,  1.4299e+00,  2.0306e+00,  2.7409e-01,\n",
            "         6.8286e-01, -2.4859e+00, -1.8967e+00,  1.1325e+00, -4.9539e-01,\n",
            "         1.4775e+00,  1.5159e+00,  8.5529e-01,  7.4241e-01, -8.6129e-01,\n",
            "        -1.2770e-01, -2.1167e+00,  2.2753e-01,  8.0856e-01,  1.3497e+00,\n",
            "        -6.2813e-01,  4.9773e-01, -1.8847e+00, -2.0158e+00, -2.2193e+00,\n",
            "         1.0596e+00,  7.0152e-01,  7.2820e-01, -2.1350e+00, -2.1661e+00,\n",
            "        -1.4183e+00,  4.2011e-01,  3.2998e-01, -2.1384e+00,  4.7369e-01,\n",
            "         6.7903e-01, -1.1289e-01,  2.4221e+00,  1.7973e+00,  1.6208e+00,\n",
            "         1.3096e+00,  5.8266e-01, -9.6318e-01,  9.6677e-01,  2.4390e-02,\n",
            "        -4.9669e-01, -6.8525e-01, -1.3051e+00,  1.0373e+00, -5.7075e-01,\n",
            "        -5.1096e-02, -3.5693e-03,  2.0248e-01, -1.3340e+00,  5.6089e-01,\n",
            "        -1.5071e+00,  8.4698e-01,  6.5406e-01,  2.7219e-01, -6.4278e-01,\n",
            "        -4.3046e-01, -3.0809e-02, -7.7043e-01, -1.4727e+00,  6.0505e+00]), tensor(64))], [(tensor([-2.4784,  1.7520,  1.6112,  1.9977,  0.2249,  0.6952, -2.6030, -1.8911,\n",
            "         1.1454, -0.4781,  1.4048,  1.7305,  0.8191,  0.7208, -0.8986, -0.0382,\n",
            "        -2.1351,  0.2804,  0.7634,  1.3785, -0.5647,  0.5980, -1.9075, -2.0315,\n",
            "        -2.3465,  1.0077,  0.7785,  0.7217, -2.1066, -2.3222, -1.2862,  0.4141,\n",
            "         0.4493, -2.1159,  0.6221,  0.5625,  0.0448,  2.3549,  1.8253,  1.6660,\n",
            "         1.4854,  0.5932, -1.0037,  0.9055,  0.1101, -0.5915, -0.7669, -1.4055,\n",
            "         0.8586, -0.6127, -0.1796,  0.0198,  0.1696, -1.1638,  0.6353, -1.5539,\n",
            "         0.7142,  0.6061,  0.2112, -0.6773, -0.4394, -0.1088, -0.8579, -1.4993,\n",
            "         6.0642]), tensor(64))], [(tensor([-2.4274,  1.8866,  1.4903,  2.0177,  0.2441,  0.7513, -2.5103, -1.9023,\n",
            "         1.2392, -0.4753,  1.5033,  1.4589,  0.7912,  0.5867, -0.8643, -0.0367,\n",
            "        -2.0384,  0.1204,  0.7991,  1.3046, -0.6434,  0.4358, -1.8270, -2.0303,\n",
            "        -2.1571,  0.9456,  0.7276,  0.7149, -2.1150, -2.2001, -1.3697,  0.4278,\n",
            "         0.3144, -2.1800,  0.4024,  0.6299, -0.1150,  2.4657,  1.8000,  1.5598,\n",
            "         1.2937,  0.5744, -0.9977,  0.8188,  0.0752, -0.5272, -0.5895, -1.2963,\n",
            "         1.0903, -0.5573, -0.0325, -0.0271,  0.1907, -1.2988,  0.5917, -1.5109,\n",
            "         0.8858,  0.7225,  0.3151, -0.5994, -0.4262, -0.0672, -0.6950, -1.4802,\n",
            "         6.0874]), tensor(64))], [(tensor([-2.5723,  1.8668,  1.5782,  2.0057,  0.2086,  0.7284, -2.5913, -1.9455,\n",
            "         1.3142, -0.5075,  1.4860,  1.5907,  0.8415,  0.6299, -0.8806, -0.1262,\n",
            "        -2.1516,  0.1903,  0.8036,  1.2981, -0.6101,  0.5361, -1.9398, -2.0590,\n",
            "        -2.2738,  1.0154,  0.7530,  0.7416, -2.1124, -2.2924, -1.3645,  0.4311,\n",
            "         0.3754, -2.2133,  0.5114,  0.6407, -0.0971,  2.5000,  1.9162,  1.6978,\n",
            "         1.4605,  0.6034, -1.0195,  0.8741,  0.0523, -0.5628, -0.6507, -1.3235,\n",
            "         0.9711, -0.6397, -0.1282, -0.0596,  0.1087, -1.3503,  0.6461, -1.5541,\n",
            "         0.7962,  0.6569,  0.2784, -0.6759, -0.4864, -0.0581, -0.8791, -1.4822,\n",
            "         6.1529]), tensor(64))], [(tensor([-2.4643,  1.6757,  1.3926,  1.9788,  0.2989,  0.7231, -2.4135, -1.8699,\n",
            "         1.1220, -0.4498,  1.5135,  1.4155,  0.8026,  0.6978, -0.8473, -0.1280,\n",
            "        -2.0450,  0.1891,  0.7760,  1.2498, -0.7110,  0.4853, -1.8530, -1.9673,\n",
            "        -2.1618,  1.0063,  0.6906,  0.7017, -2.0823, -2.1602, -1.3817,  0.3588,\n",
            "         0.2859, -2.0760,  0.3766,  0.6663, -0.1322,  2.4006,  1.7443,  1.5913,\n",
            "         1.2506,  0.5790, -0.9518,  0.9256,  0.0274, -0.4468, -0.6334, -1.2549,\n",
            "         1.1174, -0.5443, -0.0153,  0.0111,  0.2023, -1.2936,  0.5359, -1.4696,\n",
            "         0.9086,  0.6502,  0.2586, -0.5743, -0.4307,  0.0299, -0.7804, -1.4638,\n",
            "         5.9735]), tensor(64))], [(tensor([-2.3370,  1.7032,  1.5053,  1.8964,  0.2795,  0.6362, -2.4838, -1.7591,\n",
            "         1.1302, -0.4844,  1.3092,  1.4353,  0.7004,  0.5951, -0.8488, -0.0443,\n",
            "        -2.0433,  0.2009,  0.7034,  1.3526, -0.5534,  0.4732, -1.8342, -1.9532,\n",
            "        -2.1305,  0.9422,  0.6442,  0.7418, -2.0659, -2.0942, -1.2857,  0.3368,\n",
            "         0.3703, -2.1061,  0.3846,  0.5830, -0.0880,  2.3261,  1.8299,  1.6709,\n",
            "         1.3846,  0.5619, -0.9804,  0.9414,  0.0895, -0.4905, -0.6053, -1.2470,\n",
            "         1.0264, -0.5144, -0.1601, -0.0173,  0.2450, -1.2165,  0.5660, -1.5323,\n",
            "         0.8048,  0.7354,  0.3603, -0.5364, -0.4371, -0.0823, -0.7752, -1.4797,\n",
            "         5.8957]), tensor(64))], [(tensor([-2.4431,  1.7717,  1.5328,  1.9739,  0.2942,  0.6949, -2.5604, -1.9067,\n",
            "         1.2197, -0.4789,  1.4529,  1.5235,  0.7780,  0.6692, -0.9152, -0.0573,\n",
            "        -2.1285,  0.1909,  0.7127,  1.3419, -0.6300,  0.4978, -1.8813, -2.0189,\n",
            "        -2.2481,  1.0113,  0.7006,  0.7158, -2.0996, -2.2312, -1.3371,  0.3933,\n",
            "         0.3558, -2.1455,  0.4611,  0.5771, -0.0929,  2.4181,  1.9139,  1.6527,\n",
            "         1.4555,  0.5765, -0.9936,  0.9420,  0.0514, -0.5625, -0.6266, -1.3092,\n",
            "         0.9502, -0.5615, -0.1509, -0.0403,  0.1917, -1.2800,  0.5481, -1.5256,\n",
            "         0.7859,  0.6721,  0.2928, -0.6090, -0.4322, -0.0345, -0.8467, -1.5470,\n",
            "         6.0721]), tensor(64))], [(tensor([-2.4893e+00,  1.7294e+00,  1.5594e+00,  1.9420e+00,  2.2597e-01,\n",
            "         6.8069e-01, -2.5285e+00, -1.9479e+00,  1.2330e+00, -4.6074e-01,\n",
            "         1.5508e+00,  1.6172e+00,  8.4488e-01,  6.2724e-01, -9.0591e-01,\n",
            "        -1.1184e-01, -2.1053e+00,  2.4134e-01,  7.6721e-01,  1.2806e+00,\n",
            "        -6.3957e-01,  5.0549e-01, -1.8723e+00, -2.0500e+00, -2.3097e+00,\n",
            "         1.0276e+00,  7.1515e-01,  7.1939e-01, -2.1090e+00, -2.2648e+00,\n",
            "        -1.3695e+00,  4.0385e-01,  3.7364e-01, -2.1431e+00,  5.5685e-01,\n",
            "         6.2088e-01, -7.8783e-02,  2.4412e+00,  1.8819e+00,  1.6084e+00,\n",
            "         1.4849e+00,  6.2915e-01, -9.5482e-01,  8.9999e-01,  3.1859e-05,\n",
            "        -5.6334e-01, -7.4922e-01, -1.3283e+00,  9.2167e-01, -6.0174e-01,\n",
            "        -1.4227e-01, -3.7197e-02,  1.4887e-01, -1.3173e+00,  6.4950e-01,\n",
            "        -1.4922e+00,  7.6189e-01,  5.5912e-01,  2.0952e-01, -6.7559e-01,\n",
            "        -4.4073e-01, -9.3729e-02, -8.2914e-01, -1.5037e+00,  6.0807e+00]), tensor(64))], [(tensor([-2.4757,  1.8393,  1.4865,  2.0171,  0.2824,  0.6847, -2.5491, -1.8694,\n",
            "         1.2073, -0.5249,  1.4805,  1.5123,  0.8111,  0.6699, -0.8647, -0.1071,\n",
            "        -2.0647,  0.1986,  0.7742,  1.2906, -0.6617,  0.4518, -1.8519, -2.0592,\n",
            "        -2.1646,  0.9704,  0.6777,  0.7639, -2.1339, -2.2204, -1.3900,  0.4061,\n",
            "         0.3337, -2.2006,  0.4333,  0.6142, -0.0890,  2.4583,  1.8850,  1.6423,\n",
            "         1.3446,  0.5970, -0.9797,  0.9466,  0.0491, -0.5148, -0.5815, -1.2381,\n",
            "         1.0467, -0.5744, -0.0669,  0.0289,  0.2043, -1.3055,  0.5585, -1.5159,\n",
            "         0.8377,  0.7213,  0.3226, -0.6246, -0.4035,  0.0222, -0.8099, -1.4822,\n",
            "         6.0660]), tensor(64))], [(tensor([-2.4531,  1.7581,  1.4403,  1.9735,  0.2394,  0.6954, -2.5457, -1.8717,\n",
            "         1.1726, -0.5427,  1.3253,  1.5385,  0.7701,  0.6273, -0.8488, -0.1123,\n",
            "        -2.1428,  0.2375,  0.7764,  1.4380, -0.4959,  0.5207, -1.9159, -1.9955,\n",
            "        -2.2692,  1.0450,  0.6966,  0.6905, -2.1100, -2.1121, -1.3221,  0.3623,\n",
            "         0.4462, -2.1753,  0.4812,  0.6972, -0.1151,  2.3349,  1.7952,  1.6127,\n",
            "         1.3492,  0.5249, -0.9545,  0.9417,  0.0156, -0.5302, -0.7374, -1.3583,\n",
            "         0.9829, -0.5653, -0.1216, -0.0336,  0.2451, -1.2788,  0.6234, -1.5534,\n",
            "         0.7968,  0.6843,  0.3153, -0.6536, -0.4301, -0.1256, -0.6988, -1.4503,\n",
            "         6.0307]), tensor(64))], [(tensor([-2.4235,  1.7711,  1.4936,  1.9372,  0.2143,  0.7147, -2.5186, -1.9141,\n",
            "         1.1288, -0.4419,  1.4104,  1.4684,  0.7905,  0.5724, -0.9110, -0.0339,\n",
            "        -2.0372,  0.1686,  0.7734,  1.4013, -0.5697,  0.6172, -1.8139, -1.9570,\n",
            "        -2.2539,  0.9358,  0.7062,  0.6505, -2.0632, -2.1469, -1.2879,  0.3712,\n",
            "         0.3428, -2.0223,  0.4590,  0.6264, -0.0620,  2.4014,  1.7958,  1.5728,\n",
            "         1.3184,  0.4879, -0.9696,  0.8950,  0.0307, -0.5985, -0.7274, -1.3619,\n",
            "         1.0122, -0.5981, -0.1220, -0.0344,  0.1488, -1.2704,  0.5511, -1.4346,\n",
            "         0.7442,  0.6317,  0.2462, -0.6102, -0.4156, -0.1155, -0.6509, -1.4807,\n",
            "         5.9611]), tensor(64))], [(tensor([-2.5359,  1.7854,  1.5383,  2.0178,  0.2632,  0.7750, -2.5029, -1.9554,\n",
            "         1.2237, -0.5287,  1.5543,  1.6079,  0.7796,  0.6069, -0.9118, -0.0915,\n",
            "        -2.0839,  0.1915,  0.7703,  1.2297, -0.6573,  0.4869, -1.8845, -2.0849,\n",
            "        -2.1878,  1.0105,  0.6597,  0.7351, -2.0865, -2.2859, -1.4462,  0.3879,\n",
            "         0.3364, -2.1611,  0.4553,  0.6489, -0.0613,  2.4924,  1.9204,  1.6225,\n",
            "         1.4094,  0.6396, -0.9664,  0.8815,  0.0637, -0.5328, -0.7046, -1.2937,\n",
            "         0.9976, -0.5623, -0.0738, -0.0602,  0.1461, -1.3735,  0.6047, -1.5713,\n",
            "         0.8450,  0.6595,  0.3044, -0.6409, -0.4376, -0.0083, -0.7702, -1.5273,\n",
            "         6.1413]), tensor(64))], [(tensor([-2.4777,  1.8565,  1.5266,  1.9914,  0.2871,  0.6444, -2.5441, -1.9059,\n",
            "         1.1849, -0.5163,  1.4648,  1.5575,  0.8351,  0.6870, -0.8888, -0.0620,\n",
            "        -2.0732,  0.2038,  0.7660,  1.3414, -0.6369,  0.5119, -1.8619, -2.0966,\n",
            "        -2.2005,  1.0403,  0.7079,  0.7485, -2.1174, -2.2188, -1.3663,  0.3946,\n",
            "         0.3216, -2.1609,  0.4637,  0.6366, -0.0875,  2.4286,  1.9285,  1.6650,\n",
            "         1.4103,  0.6098, -1.0144,  0.9541,  0.0149, -0.5451, -0.6344, -1.3224,\n",
            "         0.9986, -0.6289, -0.0990, -0.0266,  0.2032, -1.3318,  0.5844, -1.5644,\n",
            "         0.8247,  0.6845,  0.3155, -0.6349, -0.4401, -0.0460, -0.7902, -1.5159,\n",
            "         6.1366]), tensor(64))], [(tensor([-2.4268e+00,  1.7380e+00,  1.5194e+00,  1.9704e+00,  3.2119e-01,\n",
            "         6.9464e-01, -2.5403e+00, -1.9050e+00,  1.2055e+00, -5.0682e-01,\n",
            "         1.4765e+00,  1.4233e+00,  7.9814e-01,  6.5668e-01, -9.5962e-01,\n",
            "        -8.1317e-02, -2.1266e+00,  1.7507e-01,  6.9923e-01,  1.3050e+00,\n",
            "        -6.8305e-01,  5.0229e-01, -1.9122e+00, -2.0210e+00, -2.2285e+00,\n",
            "         1.0249e+00,  7.0970e-01,  7.4898e-01, -2.1155e+00, -2.1788e+00,\n",
            "        -1.4025e+00,  3.4182e-01,  2.9890e-01, -2.1387e+00,  3.7693e-01,\n",
            "         6.3945e-01, -1.0766e-01,  2.4578e+00,  1.9056e+00,  1.6613e+00,\n",
            "         1.3775e+00,  6.0253e-01, -1.0026e+00,  9.8800e-01,  2.4553e-02,\n",
            "        -4.4347e-01, -6.1345e-01, -1.2749e+00,  1.1250e+00, -5.5898e-01,\n",
            "        -1.3569e-01, -5.5595e-02,  2.4520e-01, -1.2915e+00,  5.5584e-01,\n",
            "        -1.6008e+00,  8.7340e-01,  7.1907e-01,  3.2068e-01, -5.5853e-01,\n",
            "        -4.3469e-01,  2.1590e-03, -8.2553e-01, -1.5218e+00,  6.1475e+00]), tensor(64))], [(tensor([-2.4586,  1.7626,  1.5434,  2.0009,  0.2852,  0.6804, -2.5481, -1.9501,\n",
            "         1.2499, -0.4618,  1.5521,  1.4933,  0.8028,  0.6441, -0.9049, -0.0108,\n",
            "        -2.0863,  0.1576,  0.7522,  1.3523, -0.6808,  0.4568, -1.8940, -2.0609,\n",
            "        -2.2493,  1.0350,  0.6807,  0.7545, -2.1567, -2.2382, -1.4197,  0.3851,\n",
            "         0.3315, -2.1840,  0.4579,  0.6768, -0.1535,  2.4748,  1.9055,  1.6198,\n",
            "         1.4199,  0.5824, -0.9656,  0.9331,  0.0440, -0.5503, -0.6814, -1.3368,\n",
            "         1.0449, -0.5283, -0.0770, -0.0354,  0.2315, -1.3326,  0.5947, -1.5223,\n",
            "         0.8380,  0.6537,  0.2996, -0.6270, -0.4660, -0.0867, -0.8186, -1.5256,\n",
            "         6.1687]), tensor(64))], [(tensor([-2.4928e+00,  1.7165e+00,  1.6186e+00,  2.0310e+00,  2.4560e-01,\n",
            "         6.7969e-01, -2.6512e+00, -1.9603e+00,  1.2580e+00, -4.7812e-01,\n",
            "         1.4426e+00,  1.5978e+00,  7.8056e-01,  7.1370e-01, -9.3324e-01,\n",
            "        -9.8750e-02, -2.1539e+00,  1.9537e-01,  7.1162e-01,  1.3569e+00,\n",
            "        -6.2040e-01,  5.8813e-01, -1.9846e+00, -2.0205e+00, -2.3358e+00,\n",
            "         1.0216e+00,  7.2973e-01,  7.7523e-01, -2.1417e+00, -2.3260e+00,\n",
            "        -1.3819e+00,  3.8405e-01,  3.9592e-01, -2.2127e+00,  5.4575e-01,\n",
            "         6.2350e-01, -8.5404e-02,  2.4557e+00,  1.9979e+00,  1.6970e+00,\n",
            "         1.5187e+00,  6.1105e-01, -1.0178e+00,  1.0091e+00,  4.5101e-02,\n",
            "        -5.8591e-01, -6.9746e-01, -1.3559e+00,  9.5076e-01, -5.7719e-01,\n",
            "        -1.9661e-01, -1.6411e-02,  2.0876e-01, -1.2477e+00,  6.2048e-01,\n",
            "        -1.5894e+00,  7.7553e-01,  6.6646e-01,  2.3636e-01, -6.5555e-01,\n",
            "        -4.4441e-01,  1.5722e-03, -9.1919e-01, -1.5468e+00,  6.1866e+00]), tensor(64))], [(tensor([-2.5105,  1.7423,  1.5597,  2.0550,  0.1942,  0.7134, -2.5965, -1.9055,\n",
            "         1.1658, -0.4969,  1.3716,  1.6567,  0.8170,  0.7311, -0.8975, -0.1148,\n",
            "        -2.1398,  0.2530,  0.7919,  1.3715, -0.5478,  0.6074, -1.9510, -1.9525,\n",
            "        -2.3090,  1.0658,  0.7647,  0.7211, -2.1163, -2.2647, -1.3383,  0.4199,\n",
            "         0.5025, -2.1539,  0.6081,  0.6512, -0.0444,  2.3894,  1.8701,  1.6912,\n",
            "         1.4280,  0.5946, -1.0058,  0.9607,  0.0972, -0.5753, -0.7426, -1.3554,\n",
            "         0.9031, -0.6058, -0.2350, -0.0321,  0.1635, -1.2741,  0.6079, -1.5865,\n",
            "         0.7203,  0.6306,  0.2184, -0.7015, -0.4513, -0.0784, -0.8353, -1.5130,\n",
            "         6.1019]), tensor(64))], [(tensor([-2.4361e+00,  1.7406e+00,  1.6143e+00,  2.0061e+00,  2.6369e-01,\n",
            "         6.7318e-01, -2.5698e+00, -1.8958e+00,  1.1961e+00, -4.8521e-01,\n",
            "         1.4688e+00,  1.6625e+00,  8.2812e-01,  6.7243e-01, -9.4633e-01,\n",
            "        -8.4621e-02, -2.1605e+00,  2.4585e-01,  7.2090e-01,  1.3486e+00,\n",
            "        -5.8557e-01,  5.2809e-01, -1.9296e+00, -2.0317e+00, -2.3312e+00,\n",
            "         1.0366e+00,  7.6306e-01,  7.4950e-01, -2.1064e+00, -2.2871e+00,\n",
            "        -1.3650e+00,  4.0176e-01,  4.3325e-01, -2.1338e+00,  5.7098e-01,\n",
            "         5.9543e-01, -2.2657e-02,  2.3923e+00,  1.8717e+00,  1.6972e+00,\n",
            "         1.4914e+00,  6.5079e-01, -1.0126e+00,  9.6233e-01,  9.4619e-02,\n",
            "        -5.5790e-01, -7.3675e-01, -1.3688e+00,  9.0680e-01, -6.0848e-01,\n",
            "        -2.0007e-01, -4.3662e-03,  2.0869e-01, -1.2373e+00,  5.8857e-01,\n",
            "        -1.5835e+00,  7.4902e-01,  6.4598e-01,  2.3058e-01, -6.9441e-01,\n",
            "        -4.7687e-01, -8.8473e-02, -8.9252e-01, -1.5119e+00,  6.1092e+00]), tensor(64))], [(tensor([-2.5074,  1.7338,  1.5330,  1.9879,  0.1726,  0.6701, -2.6287, -1.8989,\n",
            "         1.2001, -0.4859,  1.3597,  1.6237,  0.7718,  0.7215, -0.8707, -0.1089,\n",
            "        -2.1299,  0.2477,  0.7543,  1.3977, -0.5300,  0.5512, -1.9363, -1.9787,\n",
            "        -2.3153,  1.0337,  0.7469,  0.7123, -2.1329, -2.2219, -1.3092,  0.4135,\n",
            "         0.4416, -2.2018,  0.6195,  0.6293, -0.0823,  2.3674,  1.8836,  1.6474,\n",
            "         1.4739,  0.5900, -1.0171,  0.9226,  0.0235, -0.5923, -0.7030, -1.3696,\n",
            "         0.8783, -0.5952, -0.1716, -0.0452,  0.2183, -1.2298,  0.6791, -1.5453,\n",
            "         0.7525,  0.6120,  0.2552, -0.6519, -0.4082, -0.0540, -0.8502, -1.4990,\n",
            "         6.1022]), tensor(64))], [(tensor([-2.5744,  1.9048,  1.4922,  2.0310,  0.2053,  0.7880, -2.5216, -1.9899,\n",
            "         1.2909, -0.5204,  1.5800,  1.5706,  0.8187,  0.5812, -0.8992, -0.0990,\n",
            "        -2.0978,  0.1588,  0.8477,  1.2338, -0.6846,  0.4908, -1.8880, -2.0524,\n",
            "        -2.2252,  0.9949,  0.6875,  0.7368, -2.0971, -2.3116, -1.3678,  0.3995,\n",
            "         0.3294, -2.1960,  0.4597,  0.6859, -0.1145,  2.5783,  1.9097,  1.6025,\n",
            "         1.3909,  0.6252, -1.0005,  0.8475,  0.0462, -0.5551, -0.6688, -1.2925,\n",
            "         1.0074, -0.6189, -0.0343, -0.0523,  0.1023, -1.3672,  0.6372, -1.5396,\n",
            "         0.8574,  0.6454,  0.3031, -0.6682, -0.4605, -0.0337, -0.7584, -1.4752,\n",
            "         6.1511]), tensor(64))], [(tensor([-2.5256,  1.9077,  1.5078,  2.0508,  0.2313,  0.7720, -2.5820, -2.0082,\n",
            "         1.2670, -0.5181,  1.4898,  1.5643,  0.8018,  0.6035, -0.8532, -0.0533,\n",
            "        -2.0804,  0.1422,  0.8467,  1.3082, -0.6446,  0.4931, -1.9065, -2.0992,\n",
            "        -2.2568,  1.0012,  0.6673,  0.7501, -2.1163, -2.2472, -1.3808,  0.3680,\n",
            "         0.3576, -2.2548,  0.4448,  0.7262, -0.1304,  2.5419,  1.9231,  1.5937,\n",
            "         1.3805,  0.6067, -0.9550,  0.8939,  0.0416, -0.5719, -0.6435, -1.3257,\n",
            "         1.0348, -0.5797, -0.0453, -0.0148,  0.1672, -1.3462,  0.6416, -1.5366,\n",
            "         0.8434,  0.6809,  0.3106, -0.6690, -0.4637, -0.0542, -0.7585, -1.5187,\n",
            "         6.2044]), tensor(64))], [(tensor([-2.5423,  1.7539,  1.5287,  2.0318,  0.2547,  0.7941, -2.4757, -1.9476,\n",
            "         1.2255, -0.4768,  1.5202,  1.6467,  0.7935,  0.5955, -0.8823, -0.0858,\n",
            "        -2.1050,  0.2079,  0.8197,  1.2617, -0.6595,  0.5505, -1.9432, -2.0485,\n",
            "        -2.2775,  1.0476,  0.7172,  0.7194, -2.0594, -2.3180, -1.3685,  0.3572,\n",
            "         0.4117, -2.1593,  0.4999,  0.7372, -0.1235,  2.4946,  1.8757,  1.6900,\n",
            "         1.4124,  0.6027, -0.9808,  0.8824,  0.0871, -0.5764, -0.7682, -1.3545,\n",
            "         0.9531, -0.5815, -0.0848, -0.0458,  0.1702, -1.3779,  0.6298, -1.5688,\n",
            "         0.8199,  0.6108,  0.2383, -0.6742, -0.5437, -0.0837, -0.8198, -1.5095,\n",
            "         6.1077]), tensor(64))], [(tensor([-2.5005,  1.7822,  1.5042,  1.9349,  0.2392,  0.7348, -2.4953, -1.8956,\n",
            "         1.1934, -0.5017,  1.4557,  1.5478,  0.8386,  0.5965, -0.9006, -0.1410,\n",
            "        -2.1823,  0.2375,  0.7960,  1.3324, -0.5719,  0.5226, -1.9376, -2.0262,\n",
            "        -2.2963,  0.9918,  0.6885,  0.6485, -2.0735, -2.2009, -1.3536,  0.4195,\n",
            "         0.3867, -2.1438,  0.4777,  0.7089, -0.1089,  2.4260,  1.8302,  1.6401,\n",
            "         1.4052,  0.5379, -0.9973,  0.9169,  0.0119, -0.5574, -0.7585, -1.3683,\n",
            "         1.0180, -0.5848, -0.0877, -0.0200,  0.1645, -1.3474,  0.6092, -1.5004,\n",
            "         0.8083,  0.6306,  0.2821, -0.6340, -0.4934, -0.1439, -0.7518, -1.4682,\n",
            "         6.0670]), tensor(64))], [(tensor([-2.4967,  1.7907,  1.5027,  2.0523,  0.3095,  0.6991, -2.5911, -1.9395,\n",
            "         1.2188, -0.5218,  1.4803,  1.5625,  0.7746,  0.6675, -0.8740, -0.0945,\n",
            "        -2.0546,  0.1661,  0.7671,  1.3180, -0.6612,  0.5557, -1.9069, -2.0618,\n",
            "        -2.2388,  1.0178,  0.7035,  0.7451, -2.1201, -2.2432, -1.3581,  0.3531,\n",
            "         0.3360, -2.1963,  0.4664,  0.6663, -0.1020,  2.4534,  1.8840,  1.6217,\n",
            "         1.3757,  0.5656, -0.9872,  0.9164,  0.0251, -0.5346, -0.6529, -1.3359,\n",
            "         0.9972, -0.5846, -0.0930, -0.0190,  0.1927, -1.2765,  0.6111, -1.5912,\n",
            "         0.8054,  0.6910,  0.2569, -0.6480, -0.4018,  0.0173, -0.8166, -1.5204,\n",
            "         6.1167]), tensor(64))], [(tensor([-2.4700,  1.8031,  1.5055,  2.0036,  0.3082,  0.6925, -2.5578, -1.9152,\n",
            "         1.1873, -0.5224,  1.4799,  1.5378,  0.7927,  0.6087, -0.8783, -0.0808,\n",
            "        -2.0444,  0.1807,  0.7734,  1.3224, -0.6482,  0.5056, -1.8646, -2.0785,\n",
            "        -2.2240,  0.9919,  0.6574,  0.7489, -2.1144, -2.1935, -1.3732,  0.3433,\n",
            "         0.3192, -2.1983,  0.4302,  0.6637, -0.0973,  2.4578,  1.8924,  1.6272,\n",
            "         1.3786,  0.5817, -0.9608,  0.9290,  0.0217, -0.5268, -0.6288, -1.3134,\n",
            "         1.0353, -0.5811, -0.0950, -0.0224,  0.2094, -1.3111,  0.5889, -1.5561,\n",
            "         0.8229,  0.6858,  0.3069, -0.6200, -0.4202, -0.0206, -0.7792, -1.5270,\n",
            "         6.1245]), tensor(64))], [(tensor([-2.5068e+00,  1.7522e+00,  1.4675e+00,  1.9875e+00,  2.9523e-01,\n",
            "         6.5719e-01, -2.4932e+00, -1.8763e+00,  1.1458e+00, -5.2571e-01,\n",
            "         1.4647e+00,  1.5609e+00,  8.9496e-01,  8.4908e-01, -8.8356e-01,\n",
            "        -1.5398e-01, -2.1869e+00,  3.1787e-01,  6.9932e-01,  1.3434e+00,\n",
            "        -6.2571e-01,  4.8854e-01, -1.9102e+00, -2.0213e+00, -2.2226e+00,\n",
            "         1.1141e+00,  7.6689e-01,  7.2561e-01, -2.1444e+00, -2.1527e+00,\n",
            "        -1.4435e+00,  4.8732e-01,  2.9096e-01, -2.1267e+00,  4.9178e-01,\n",
            "         5.8205e-01, -4.8011e-02,  2.3080e+00,  1.8085e+00,  1.6405e+00,\n",
            "         1.3581e+00,  6.5156e-01, -9.7675e-01,  9.7577e-01,  2.7405e-03,\n",
            "        -4.1149e-01, -6.4335e-01, -1.2972e+00,  1.0177e+00, -5.9363e-01,\n",
            "        -1.0380e-01, -5.4356e-02,  1.8566e-01, -1.3112e+00,  5.5125e-01,\n",
            "        -1.5471e+00,  8.9447e-01,  6.7749e-01,  2.9777e-01, -6.2130e-01,\n",
            "        -3.8982e-01, -5.4933e-03, -8.0961e-01, -1.4817e+00,  6.1081e+00]), tensor(64))], [(tensor([-2.4624,  1.8361,  1.5377,  1.9854,  0.2818,  0.6964, -2.5630, -1.9371,\n",
            "         1.2182, -0.5265,  1.5063,  1.5739,  0.8115,  0.6086, -0.8976, -0.0832,\n",
            "        -2.0554,  0.2059,  0.7500,  1.3283, -0.6588,  0.4863, -1.8810, -2.0900,\n",
            "        -2.2172,  1.0035,  0.6755,  0.7638, -2.1260, -2.2218, -1.3689,  0.3762,\n",
            "         0.3520, -2.2087,  0.4463,  0.6762, -0.0933,  2.4552,  1.9331,  1.6575,\n",
            "         1.4304,  0.6296, -0.9732,  0.9522,  0.0155, -0.5277, -0.6524, -1.2943,\n",
            "         1.0346, -0.5813, -0.1249, -0.0299,  0.2028, -1.3313,  0.6054, -1.5712,\n",
            "         0.8178,  0.6861,  0.3095, -0.6141, -0.4427, -0.0640, -0.7991, -1.5274,\n",
            "         6.1717]), tensor(64))], [(tensor([-2.3961,  1.7245,  1.5995,  2.0249,  0.2760,  0.6984, -2.5350, -1.8795,\n",
            "         1.1624, -0.4778,  1.5135,  1.5490,  0.7842,  0.6613, -0.9593, -0.0295,\n",
            "        -2.0904,  0.2063,  0.7047,  1.2895, -0.6815,  0.4997, -1.8812, -2.0042,\n",
            "        -2.2576,  1.0166,  0.7376,  0.7574, -2.1278, -2.2453, -1.3957,  0.3596,\n",
            "         0.3774, -2.0901,  0.4722,  0.6325, -0.0592,  2.4216,  1.8567,  1.6455,\n",
            "         1.3769,  0.6657, -1.0100,  0.9675,  0.0857, -0.4837, -0.7190, -1.3221,\n",
            "         1.0786, -0.5679, -0.1604, -0.0229,  0.2556, -1.2577,  0.5768, -1.5656,\n",
            "         0.8325,  0.6937,  0.2885, -0.6457, -0.4608, -0.0414, -0.8048, -1.4991,\n",
            "         6.1676]), tensor(64))], [(tensor([-2.5439,  1.8680,  1.5169,  2.0971,  0.2470,  0.8265, -2.5208, -2.0116,\n",
            "         1.2358, -0.5211,  1.5989,  1.6265,  0.8271,  0.5458, -0.8685, -0.0647,\n",
            "        -2.0330,  0.1068,  0.8840,  1.2318, -0.6686,  0.4641, -1.8648, -2.1053,\n",
            "        -2.2307,  1.0141,  0.6745,  0.7724, -2.1044, -2.2946, -1.4472,  0.3761,\n",
            "         0.3548, -2.2439,  0.4593,  0.7063, -0.0754,  2.5849,  1.8847,  1.5708,\n",
            "         1.3607,  0.6492, -0.9032,  0.8190,  0.0985, -0.5576, -0.6734, -1.3114,\n",
            "         1.0052, -0.5598, -0.0279, -0.0354,  0.1507, -1.3682,  0.6288, -1.5758,\n",
            "         0.8472,  0.6425,  0.2697, -0.6947, -0.4655, -0.0179, -0.7519, -1.5258,\n",
            "         6.1872]), tensor(64))], [(tensor([-2.5398,  1.8651,  1.5146,  2.0220,  0.2167,  0.7994, -2.5631, -2.0003,\n",
            "         1.2599, -0.5407,  1.5292,  1.6494,  0.7958,  0.6064, -0.9104, -0.0958,\n",
            "        -2.0918,  0.1911,  0.7999,  1.2971, -0.6262,  0.5099, -1.9256, -2.0552,\n",
            "        -2.2312,  1.0079,  0.6943,  0.7381, -2.1014, -2.3015, -1.3617,  0.4230,\n",
            "         0.3833, -2.2184,  0.4884,  0.6844, -0.0602,  2.4907,  1.9139,  1.6151,\n",
            "         1.4224,  0.6293, -0.9712,  0.8604,  0.0720, -0.5574, -0.7254, -1.3068,\n",
            "         0.9756, -0.5497, -0.0849, -0.0620,  0.1308, -1.3290,  0.6432, -1.5960,\n",
            "         0.8173,  0.6533,  0.2824, -0.6308, -0.4436, -0.0593, -0.7722, -1.5062,\n",
            "         6.1633]), tensor(64))], [(tensor([-2.4356,  1.8046,  1.5266,  2.0279,  0.2649,  0.6896, -2.5165, -1.9347,\n",
            "         1.2230, -0.4870,  1.5394,  1.5997,  0.8105,  0.6011, -0.9014, -0.0105,\n",
            "        -2.0527,  0.1294,  0.7804,  1.3058, -0.6372,  0.4235, -1.8194, -2.0982,\n",
            "        -2.2448,  1.0291,  0.7298,  0.7979, -2.1097, -2.2232, -1.4231,  0.3326,\n",
            "         0.3128, -2.1499,  0.4912,  0.6694, -0.1204,  2.4942,  1.8788,  1.5764,\n",
            "         1.3797,  0.6697, -0.9775,  0.8668,  0.0396, -0.5567, -0.6657, -1.3453,\n",
            "         0.9748, -0.6011, -0.0716, -0.0656,  0.2510, -1.3158,  0.6542, -1.5881,\n",
            "         0.8584,  0.6356,  0.2724, -0.6810, -0.4534, -0.0608, -0.7258, -1.5112,\n",
            "         6.1399]), tensor(64))], [(tensor([-2.4995,  1.8638,  1.4551,  1.9719,  0.2153,  0.7073, -2.5500, -1.9518,\n",
            "         1.2205, -0.4927,  1.5056,  1.5537,  0.8433,  0.6407, -0.8935, -0.0790,\n",
            "        -2.0700,  0.2254,  0.7854,  1.3286, -0.6208,  0.4720, -1.8357, -2.0200,\n",
            "        -2.2392,  1.0208,  0.6991,  0.7034, -2.1342, -2.2027, -1.3275,  0.4331,\n",
            "         0.3281, -2.1754,  0.4889,  0.6230, -0.0984,  2.4031,  1.8348,  1.5637,\n",
            "         1.3560,  0.6052, -0.9506,  0.8720,  0.0073, -0.5448, -0.6303, -1.2945,\n",
            "         0.9807, -0.6009, -0.0629, -0.0669,  0.1549, -1.3180,  0.5990, -1.4639,\n",
            "         0.8436,  0.6365,  0.2940, -0.6383, -0.4069, -0.0497, -0.7588, -1.4900,\n",
            "         6.0949]), tensor(64))], [(tensor([-2.4603,  1.7957,  1.5361,  1.9584,  0.2780,  0.6830, -2.5369, -1.8677,\n",
            "         1.2063, -0.5054,  1.4979,  1.5755,  0.8000,  0.6272, -0.9009, -0.0962,\n",
            "        -2.0834,  0.2127,  0.7204,  1.2928, -0.6372,  0.4698, -1.8456, -2.0746,\n",
            "        -2.2352,  0.9768,  0.7261,  0.7118, -2.0868, -2.1975, -1.3582,  0.3822,\n",
            "         0.3217, -2.1379,  0.4733,  0.6139, -0.0820,  2.4145,  1.8724,  1.6263,\n",
            "         1.3985,  0.6179, -1.0128,  0.8834,  0.0169, -0.5343, -0.6666, -1.3210,\n",
            "         1.0017, -0.6061, -0.1010, -0.0243,  0.2016, -1.2955,  0.6187, -1.5310,\n",
            "         0.8135,  0.6590,  0.2943, -0.6224, -0.4178, -0.0501, -0.7753, -1.4936,\n",
            "         6.0962]), tensor(64))], [(tensor([-2.5737,  1.8910,  1.5122,  2.0669,  0.2849,  0.7716, -2.4722, -1.9406,\n",
            "         1.1884, -0.5381,  1.5096,  1.5960,  0.8307,  0.6308, -0.8596, -0.0853,\n",
            "        -2.0898,  0.2046,  0.8372,  1.2874, -0.6230,  0.5347, -1.8707, -2.0884,\n",
            "        -2.1687,  1.0406,  0.6904,  0.7300, -2.0809, -2.2027, -1.4594,  0.4386,\n",
            "         0.2963, -2.1529,  0.4273,  0.6445, -0.0510,  2.5008,  1.8410,  1.6566,\n",
            "         1.3317,  0.6046, -0.9513,  0.8572,  0.0949, -0.4998, -0.6891, -1.2971,\n",
            "         1.0130, -0.5809, -0.0546, -0.0775,  0.0895, -1.4309,  0.5702, -1.5529,\n",
            "         0.8307,  0.7024,  0.3086, -0.6557, -0.4588, -0.0399, -0.7235, -1.5041,\n",
            "         6.1075]), tensor(64))], [(tensor([-2.5199e+00,  1.8259e+00,  1.5162e+00,  2.0060e+00,  2.8639e-01,\n",
            "         6.8583e-01, -2.5534e+00, -1.9145e+00,  1.2436e+00, -5.2847e-01,\n",
            "         1.4778e+00,  1.5807e+00,  8.3864e-01,  6.6767e-01, -8.6891e-01,\n",
            "        -1.2800e-01, -2.1462e+00,  2.1727e-01,  7.5436e-01,  1.3506e+00,\n",
            "        -6.1077e-01,  4.7465e-01, -1.9173e+00, -2.0957e+00, -2.2394e+00,\n",
            "         1.0404e+00,  7.0100e-01,  7.7617e-01, -2.1450e+00, -2.2229e+00,\n",
            "        -1.4214e+00,  4.0718e-01,  3.3497e-01, -2.2418e+00,  4.7168e-01,\n",
            "         6.5957e-01, -1.0535e-01,  2.4497e+00,  1.9269e+00,  1.6926e+00,\n",
            "         1.4537e+00,  6.3028e-01, -9.8300e-01,  9.6562e-01,  5.5505e-03,\n",
            "        -5.3534e-01, -6.3276e-01, -1.3125e+00,  9.9537e-01, -6.0460e-01,\n",
            "        -1.0401e-01, -4.0030e-02,  1.9327e-01, -1.3462e+00,  6.0400e-01,\n",
            "        -1.5697e+00,  8.6123e-01,  7.0115e-01,  3.2202e-01, -6.4399e-01,\n",
            "        -4.5485e-01, -3.9352e-02, -8.3924e-01, -1.5102e+00,  6.1651e+00]), tensor(64))], [(tensor([-2.3769e+00,  1.6021e+00,  1.4503e+00,  1.8361e+00,  3.0431e-01,\n",
            "         4.5768e-01, -2.4912e+00, -1.6979e+00,  1.0951e+00, -5.2410e-01,\n",
            "         1.2762e+00,  1.5287e+00,  8.4309e-01,  9.3397e-01, -8.3011e-01,\n",
            "        -1.4293e-01, -2.1326e+00,  4.0173e-01,  5.1103e-01,  1.5072e+00,\n",
            "        -5.1400e-01,  4.3331e-01, -1.8074e+00, -1.9575e+00, -2.1299e+00,\n",
            "         1.1246e+00,  8.2495e-01,  7.2378e-01, -2.1399e+00, -2.0077e+00,\n",
            "        -1.3501e+00,  4.8187e-01,  3.7057e-01, -2.0343e+00,  5.2717e-01,\n",
            "         4.2912e-01, -3.4688e-02,  1.9986e+00,  1.7727e+00,  1.6863e+00,\n",
            "         1.4232e+00,  6.2073e-01, -9.7777e-01,  1.0727e+00, -5.9036e-02,\n",
            "        -4.0162e-01, -6.2711e-01, -1.2370e+00,  9.0269e-01, -5.9495e-01,\n",
            "        -2.2067e-01, -2.4183e-03,  2.8165e-01, -1.1571e+00,  5.5753e-01,\n",
            "        -1.5157e+00,  8.1367e-01,  6.9270e-01,  2.9091e-01, -5.5556e-01,\n",
            "        -2.9979e-01, -6.6246e-02, -8.2639e-01, -1.4234e+00,  5.8901e+00]), tensor(64))], [(tensor([-2.2484,  1.5429,  1.3322,  1.5923,  0.2788,  0.4390, -2.2384, -1.5996,\n",
            "         1.0598, -0.4811,  1.1391,  1.5463,  0.8655,  0.8967, -0.7047, -0.2038,\n",
            "        -2.1209,  0.4922,  0.4479,  1.4782, -0.3507,  0.4034, -1.7037, -1.8949,\n",
            "        -2.0532,  1.1128,  0.8888,  0.5675, -1.9461, -1.8688, -1.2665,  0.5774,\n",
            "         0.4105, -1.9039,  0.5968,  0.2887,  0.0546,  1.7153,  1.5850,  1.6398,\n",
            "         1.4722,  0.6196, -0.9657,  0.9863, -0.1095, -0.4524, -0.5505, -1.2629,\n",
            "         0.6284, -0.6667, -0.2584,  0.0119,  0.1973, -1.1497,  0.4695, -1.3520,\n",
            "         0.7829,  0.5973,  0.2357, -0.5320, -0.3090, -0.1747, -0.7773, -1.3967,\n",
            "         5.5488]), tensor(64))], [(tensor([-2.2845,  1.4559,  1.3140,  1.6361,  0.2823,  0.3454, -2.2869, -1.6008,\n",
            "         1.1213, -0.5033,  1.0687,  1.5115,  0.7780,  0.9418, -0.7874, -0.1715,\n",
            "        -2.1399,  0.4425,  0.3534,  1.5216, -0.3092,  0.3684, -1.6787, -1.8403,\n",
            "        -1.9897,  1.2530,  0.8824,  0.6666, -1.9987, -1.9097, -1.3464,  0.4988,\n",
            "         0.4218, -1.9409,  0.5840,  0.2111, -0.0318,  1.6942,  1.7764,  1.7175,\n",
            "         1.5324,  0.6633, -0.9762,  1.1000, -0.1287, -0.4659, -0.5073, -1.1678,\n",
            "         0.5355, -0.6309, -0.3324, -0.0980,  0.2775, -1.1924,  0.4792, -1.4756,\n",
            "         0.8316,  0.6713,  0.2811, -0.5151, -0.2756, -0.0231, -0.8221, -1.4539,\n",
            "         5.5768]), tensor(64))], [(tensor([-2.3319,  1.4920,  1.4000,  1.7578,  0.2924,  0.3720, -2.3900, -1.5998,\n",
            "         1.0599, -0.4947,  1.1702,  1.5488,  0.8374,  0.9265, -0.7678, -0.1013,\n",
            "        -2.0883,  0.4300,  0.4724,  1.5264, -0.4247,  0.4134, -1.7164, -1.8870,\n",
            "        -2.0489,  1.1985,  0.8379,  0.7258, -2.1231, -1.9752, -1.3075,  0.4976,\n",
            "         0.4278, -1.9867,  0.5941,  0.3551, -0.0446,  1.8437,  1.6923,  1.7116,\n",
            "         1.4326,  0.5781, -0.9296,  1.0320, -0.0217, -0.4234, -0.5715, -1.2148,\n",
            "         0.7088, -0.5593, -0.2402, -0.0307,  0.2873, -1.1577,  0.5553, -1.4971,\n",
            "         0.7768,  0.6524,  0.2869, -0.5232, -0.3147, -0.1234, -0.8812, -1.4366,\n",
            "         5.6240]), tensor(64))]], frame_confidence=None, token_confidence=None, word_confidence=None, length=tensor(51), y=None, lm_state=None, lm_scores=None, ngram_lm_state=None, tokens=None, last_token=None, token_duration=tensor([]), last_frame=None)\n"
          ]
        }
      ],
      "source": [
        "# The Hypothesis object contains a lot of useful information regarding the decoding step.\n",
        "print(hypothesis)"
      ]
    },
    {
      "cell_type": "markdown",
      "metadata": {
        "id": "VlZRFF-kQU2d"
      },
      "source": [
        "-------\n",
        "\n",
        "Now, decode the hypothesis and compare it against the ground truth text. Note - this decoded hypothesis is at *sub-word* level for this model. Therefore sub-word tokens such as `_` may be seen here."
      ]
    },
    {
      "cell_type": "code",
      "execution_count": 45,
      "metadata": {
        "id": "ALuefA4XPh5O"
      },
      "outputs": [
        {
          "name": "stdout",
          "output_type": "stream",
          "text": [
            "Decoded ground truth : rubout g m e f three nine\n",
            "Decoded hypothesis   : \n",
            "Decoded hyp tokens   : []\n"
          ]
        }
      ],
      "source": [
        "decoded_text = hypothesis.text\n",
        "decoded_hypothesis = model.decoding.decode_ids_to_tokens(hypothesis.y_sequence.cpu().numpy().tolist())\n",
        "decoded_ground_truth = model.decoding.tokenizer.ids_to_text(ground_truth.cpu().numpy().tolist())\n",
        "\n",
        "print(\"Decoded ground truth :\", decoded_ground_truth)\n",
        "print(\"Decoded hypothesis   :\", decoded_text)\n",
        "print(\"Decoded hyp tokens   :\", decoded_hypothesis)\n"
      ]
    },
    {
      "cell_type": "markdown",
      "metadata": {
        "id": "J1djRcGrSeAQ"
      },
      "source": [
        "---------\n",
        "\n",
        "Next we print out the 2-d alignment grid of the RNNT model:"
      ]
    },
    {
      "cell_type": "code",
      "execution_count": 46,
      "metadata": {
        "id": "vl1BF52iSjEq"
      },
      "outputs": [
        {
          "name": "stdout",
          "output_type": "stream",
          "text": [
            "Length of alignments (T):  51\n",
            "Length of padded acoustic model after striding :  51\n"
          ]
        }
      ],
      "source": [
        "alignments = hypothesis.alignments\n",
        "\n",
        "# These two values should normally always match\n",
        "print(\"Length of alignments (T): \", len(alignments))\n",
        "print(\"Length of padded acoustic model after striding : \", int(hypothesis.length))"
      ]
    },
    {
      "cell_type": "markdown",
      "metadata": {
        "id": "xkv_x8NAfpX3"
      },
      "source": [
        "------\n",
        "\n",
        "Finally, let us calculate the alignment grid. We will de-tokenize the sub-word token if it is a valid index in the vocabulary and use `''` as a placeholder for the `Transducer Blank` token.\n",
        "\n",
        "Note that each `timestep` here is (roughly) $timestep * total\\_stride\\_of\\_model * preprocessor.window\\_stride$ seconds timestamp.\n",
        "\n",
        "**Note**: You can modify the value of `config.model.loss.warprnnt_numba_kwargs.fastemit_lambda` prior to training and see an impact on final alignment latency!"
      ]
    },
    {
      "cell_type": "code",
      "execution_count": 47,
      "metadata": {
        "id": "Xt5nDL55SdRL"
      },
      "outputs": [
        {
          "name": "stdout",
          "output_type": "stream",
          "text": [
            "Tokens at timestep 0 = ['']\n",
            "Tokens at timestep 1 = ['']\n",
            "Tokens at timestep 2 = ['']\n",
            "Tokens at timestep 3 = ['']\n",
            "Tokens at timestep 4 = ['']\n",
            "Tokens at timestep 5 = ['']\n",
            "Tokens at timestep 6 = ['']\n",
            "Tokens at timestep 7 = ['']\n",
            "Tokens at timestep 8 = ['']\n",
            "Tokens at timestep 9 = ['']\n",
            "Tokens at timestep 10 = ['']\n",
            "Tokens at timestep 11 = ['']\n",
            "Tokens at timestep 12 = ['']\n",
            "Tokens at timestep 13 = ['']\n",
            "Tokens at timestep 14 = ['']\n",
            "Tokens at timestep 15 = ['']\n",
            "Tokens at timestep 16 = ['']\n",
            "Tokens at timestep 17 = ['']\n",
            "Tokens at timestep 18 = ['']\n",
            "Tokens at timestep 19 = ['']\n",
            "Tokens at timestep 20 = ['']\n",
            "Tokens at timestep 21 = ['']\n",
            "Tokens at timestep 22 = ['']\n",
            "Tokens at timestep 23 = ['']\n",
            "Tokens at timestep 24 = ['']\n",
            "Tokens at timestep 25 = ['']\n",
            "Tokens at timestep 26 = ['']\n",
            "Tokens at timestep 27 = ['']\n",
            "Tokens at timestep 28 = ['']\n",
            "Tokens at timestep 29 = ['']\n",
            "Tokens at timestep 30 = ['']\n",
            "Tokens at timestep 31 = ['']\n",
            "Tokens at timestep 32 = ['']\n",
            "Tokens at timestep 33 = ['']\n",
            "Tokens at timestep 34 = ['']\n",
            "Tokens at timestep 35 = ['']\n",
            "Tokens at timestep 36 = ['']\n",
            "Tokens at timestep 37 = ['']\n",
            "Tokens at timestep 38 = ['']\n",
            "Tokens at timestep 39 = ['']\n",
            "Tokens at timestep 40 = ['']\n",
            "Tokens at timestep 41 = ['']\n",
            "Tokens at timestep 42 = ['']\n",
            "Tokens at timestep 43 = ['']\n",
            "Tokens at timestep 44 = ['']\n",
            "Tokens at timestep 45 = ['']\n",
            "Tokens at timestep 46 = ['']\n",
            "Tokens at timestep 47 = ['']\n",
            "Tokens at timestep 48 = ['']\n",
            "Tokens at timestep 49 = ['']\n",
            "Tokens at timestep 50 = ['']\n"
          ]
        }
      ],
      "source": [
        "# Compute the alignment grid\n",
        "for ti in range(len(alignments)):\n",
        "  t_u = []\n",
        "  for uj in range(len(alignments[ti])):\n",
        "    logprob, token = alignments[ti][uj]\n",
        "    token = token.to('cpu').numpy().tolist()\n",
        "    decoded_token = model.decoding.decode_ids_to_tokens([token])[0] if token != model.decoding.blank_id else ''  # token at index len(vocab) == RNNT blank token\n",
        "    t_u.append(decoded_token)\n",
        "\n",
        "  print(f\"Tokens at timestep {ti} = {t_u}\")"
      ]
    },
    {
      "cell_type": "markdown",
      "metadata": {
        "id": "ScgUTa-16DKu"
      },
      "source": [
        "# Takeaways\n",
        "------\n",
        "\n",
        "We covered significant ground in this tutorial, but here are a few key takeaways -\n",
        "\n",
        "1) **Any CTC config can be easily converted to a Transducer config** by copy-pasting the default Transducer config components.\n",
        "\n",
        "-------\n",
        "\n",
        "2) **Dataset processing for CTC and Transducer models are the same!** If it works for CTC it works exactly the same way for Transducers. This also applies to Character-based models vs. Sub-word tokenization-based models.\n",
        "\n",
        "-------\n",
        "\n",
        "3) **Fused Batch during training and evaluation significantly reduces the need for large GPU memory**, and we can simply reduce the `fused_batch_size` to process samples at a larger acoustic (global) batch size (the maximum batch size that can be passed through the acoustic model, disregarding the Prediction and Joint models).\n",
        "\n",
        "-------\n",
        "\n",
        "4) Once trained, **transducer models implicitly can be used for beam search**! The prediction network acts as an implicit language model and can easily be used for this beam search by switching the decoding configuration.\n",
        "\n",
        "-------\n",
        "\n",
        "5) **Alignments can be easily extracted from Transducers** by adding a special flag to the Decoding setup. After this, it is quite simple to extract the 2-d alignment grid of the transducer for samples or a batch of samples. It must be noted that this alignment information does require slightly more memory, and increases decoding time by a small amount as well.\n",
        "\n",
        "-------\n",
        "\n",
        "This is just the start of our journey into Transducers. There are several improvements coming out every few months for these models, and we encourage contributions to improve the transducer framework in NeMo!"
      ]
    },
    {
      "cell_type": "markdown",
      "metadata": {
        "id": "gFvHVBIi4pRr"
      },
      "source": [
        "# Next Steps\n",
        "\n",
        "Head on over to the `examples/asr` directory in the NeMo repository in order to find the training scripts for Transducer based models - `sppech_to_text_rnnt.py` (for Character decoding based Transducer models) and `speech_to_text_rnnt_bpe.py` (for Sub-word decoding based Transducer models).\n",
        "\n",
        "You will find that following many of the steps from CTC models, and simply modifying the config to include the Transducer components, we can train character or sub-word based transducer models with the same flexibility as we can train CTC models !"
      ]
    }
  ],
  "metadata": {
    "accelerator": "GPU",
    "colab": {
      "collapsed_sections": [
        "V5sMoFHmVvhg"
      ],
      "name": "ASR-with-Transducers.ipynb",
      "provenance": [],
      "toc_visible": true
    },
    "kernelspec": {
      "display_name": "base",
      "language": "python",
      "name": "python3"
    },
    "language_info": {
      "codemirror_mode": {
        "name": "ipython",
        "version": 3
      },
      "file_extension": ".py",
      "mimetype": "text/x-python",
      "name": "python",
      "nbconvert_exporter": "python",
      "pygments_lexer": "ipython3",
      "version": "3.13.2"
    }
  },
  "nbformat": 4,
  "nbformat_minor": 0
}
